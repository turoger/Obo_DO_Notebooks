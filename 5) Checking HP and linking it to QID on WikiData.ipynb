{
 "cells": [
  {
   "cell_type": "markdown",
   "metadata": {},
   "source": [
    "# Link a Human Phenotype to existing QID on WikiData\n",
    "The goal is to understand why obographs_DO is not appending certain properties to WikiData.  Is it because an existing Human Phenotype (that's already on WikiData and has an existing QID) is unlinked to an existing QID which is why the QID can't be found? <br> <br>\n",
    "1.) Get a list of potential HP, look them on WikiData<br>\n",
    "2.) Setup a fresh environment with a fresh pull (make edits on your branch and push to github). <br>\n",
    "3.) Link one's  that match to WikiData<br>\n",
    "4.) Rerun script<br>\n"
   ]
  },
  {
   "cell_type": "markdown",
   "metadata": {},
   "source": [
    "#### Here's a list of HP's not found. Output from Notebook4.\n",
    "\n",
    "```\n",
    "None;None;None;no qids found for: http://purl.obolibrary.org/obo/HP_0003202;None\n",
    "None;None;None;no qids found for: http://purl.obolibrary.org/obo/HP_0002912;None\n",
    "None;None;None;no qids found for: http://purl.obolibrary.org/obo/HP_0003231;None\n",
    "None;None;None;no qids found for: http://purl.obolibrary.org/obo/HP_0005832;None\n",
    "```\n",
    "\n",
    "More or less chosen at random. Maybe I should screen all HP results (put it in a set), and count them with a dictionary. The most popular human phenotype most likely will have a lot of links to it. Look at both Subject and Object counts, summed together, as it will tell you how popular each phenotype is as having specific features, or being a feature of. <br> <br>\n",
    "Human Phenotype Ontologies only exist in Edges (not logicalDefinitionAxioms). Use `doid_edges.json` file for counts."
   ]
  },
  {
   "cell_type": "code",
   "execution_count": 1,
   "metadata": {},
   "outputs": [],
   "source": [
    "import json\n",
    "Edg_path = \"/home/rogertu/WikiData/doidtest/doid_edges.json\""
   ]
  },
  {
   "cell_type": "code",
   "execution_count": 2,
   "metadata": {},
   "outputs": [
    {
     "name": "stdout",
     "output_type": "stream",
     "text": [
      "\n",
      "edg here\n",
      " {'sub': 'http://purl.obolibrary.org/obo/DOID_820', 'pred': 'http://purl.obolibrary.org/obo/RO_0001025', 'obj': 'http://purl.obolibrary.org/obo/UBERON_0000948'}\n"
     ]
    }
   ],
   "source": [
    "edg = json.load(open(Edg_path))\n",
    "print(\"\\nedg here\\n\", edg[0])"
   ]
  },
  {
   "cell_type": "markdown",
   "metadata": {},
   "source": [
    "#### Add each `sub` and `obj` to sets to isolate unique items."
   ]
  },
  {
   "cell_type": "code",
   "execution_count": 3,
   "metadata": {},
   "outputs": [
    {
     "name": "stdout",
     "output_type": "stream",
     "text": [
      "Items in Edge Set w/ Subject that has HP 0\n",
      "Items in Edge Set w/ Object that has HP 121\n"
     ]
    }
   ],
   "source": [
    "# for each item in edg (a list of dictionaries), if index is subject, and the slice at position 31:33 is HP, add it to the set. \n",
    "edgSetSub = set()\n",
    "for item in edg:\n",
    "    if item[\"sub\"][31:33] == 'HP':\n",
    "        edgSetSub.add(item[\"sub\"])\n",
    "print(\"Items in Edge Set w/ Subject that has HP\", len(edgSetSub))\n",
    "    \n",
    "    \n",
    "# for each item in edg (a list of dictionaries), if index is object, and the slice at position 31:33 is HP, add it to the set.    \n",
    "edgSetObj = set()\n",
    "for item in edg:\n",
    "    if item[\"obj\"][31:33] == 'HP':\n",
    "        edgSetObj.add(item[\"obj\"])\n",
    "\n",
    "print(\"Items in Edge Set w/ Object that has HP\", len(edgSetObj))"
   ]
  },
  {
   "cell_type": "markdown",
   "metadata": {},
   "source": [
    "#### Convert `edgSetSub` and `edgSetObj` to Dictionaries"
   ]
  },
  {
   "cell_type": "code",
   "execution_count": 4,
   "metadata": {},
   "outputs": [
    {
     "name": "stdout",
     "output_type": "stream",
     "text": [
      "Subject Counter Dictionary : \n",
      " 0\n",
      "Object Counter Dictionary : \n",
      " 121\n"
     ]
    }
   ],
   "source": [
    "# converts set to dictionary with values 0. Prints dictionary to confirm\n",
    "subCounter = {x: 0 for x in edgSetSub}\n",
    "objCounter = {x: 0 for x in edgSetObj}\n",
    "\n",
    "print(\"Subject Counter Dictionary : \\n\", len(subCounter))\n",
    "print(\"Object Counter Dictionary : \\n\", len(objCounter))"
   ]
  },
  {
   "cell_type": "markdown",
   "metadata": {},
   "source": [
    "#### Count number of Objects in Edges\n",
    "Seems like there are no subjects with HP. This actually makes sense because I grabbed Edges from under Disease Ontology Node."
   ]
  },
  {
   "cell_type": "code",
   "execution_count": 5,
   "metadata": {},
   "outputs": [],
   "source": [
    "for item in edg:\n",
    "    x = item[\"obj\"]\n",
    "    if x in objCounter:\n",
    "        objCounter[x] = objCounter[x]+1\n",
    "        "
   ]
  },
  {
   "cell_type": "code",
   "execution_count": 6,
   "metadata": {},
   "outputs": [
    {
     "name": "stdout",
     "output_type": "stream",
     "text": [
      "('http://purl.obolibrary.org/obo/HP_0011001', 6)\n",
      "('http://purl.obolibrary.org/obo/HP_0001250', 5)\n",
      "('http://purl.obolibrary.org/obo/HP_0003510', 5)\n",
      "('http://purl.obolibrary.org/obo/HP_0001482', 4)\n",
      "('http://purl.obolibrary.org/obo/HP_0001252', 4)\n"
     ]
    }
   ],
   "source": [
    "# Order your dictionary output by descending, pick the first 5.\n",
    "listKV = sorted(objCounter.items(), key=lambda x: x[1], reverse=True)\n",
    "print (*listKV[:5], sep = '\\n')"
   ]
  },
  {
   "cell_type": "markdown",
   "metadata": {},
   "source": [
    "#### Here's a list of HP ID's and their corresponding QID's.\n",
    "```\n",
    "'http://purl.obolibrary.org/obo/HP_0011001', Increased bone mineral density, No specific QID's found.\n",
    "'http://purl.obolibrary.org/obo/HP_0001250', Seizures, Q852376 (convulsion | seizures)\n",
    "'http://purl.obolibrary.org/obo/HP_0003510', Severe short stature, Q7502090 (short stature) # Closest I found to it..\n",
    "'http://purl.obolibrary.org/obo/HP_0001482', Subcutaneous nodule, No specific QID's found.\n",
    "'http://purl.obolibrary.org/obo/HP_0001252', Muscular hypotonia, Q1753547 (hypotonia | muscular hypotonia)\n",
    "```\n",
    "<br>\n",
    "I'll play with Seizure and Muscular Hypotonia"
   ]
  },
  {
   "cell_type": "markdown",
   "metadata": {},
   "source": [
    "#### Create new virtual environment and run code.\n",
    "Make sure github is up-to-date and that you clone from the branch `dev`. <br>\n",
    "Install all dependencies via pip (requirements) and `scheduled-bots` and run the setup."
   ]
  },
  {
   "cell_type": "code",
   "execution_count": 4,
   "metadata": {},
   "outputs": [
    {
     "name": "stdout",
     "output_type": "stream",
     "text": [
      "/home/rogertu/WikiData/WD_Test2/bin/pip\n",
      "/home/rogertu/WikiData\n"
     ]
    }
   ],
   "source": [
    "%%bash\n",
    "which pip\n",
    "pwd"
   ]
  },
  {
   "cell_type": "code",
   "execution_count": null,
   "metadata": {},
   "outputs": [],
   "source": [
    "%%bash\n",
    "python3 Test/scheduled-bots/scheduled_bots/ontology/obographs_DO.py ./doid.json"
   ]
  },
  {
   "cell_type": "markdown",
   "metadata": {},
   "source": [
    "#### So I wrote to WikiData on accident.\n",
    "Good thing to note (or unfortunate to note) was I cloned my master file for this run, so there were no edits that were made to it that are different from SuLab master file. Edits in branch would be to `__init__.py` (adding more properties), `obographs_DO.py` (adding to `APPEND_PROPS`) and `obographs_DO.py`(changing `try_write` to `False`). The branch also wouldn't have run because the last two lines are commented out...  <br>\n",
    "Look at logs created for this run and compare it to Jenkins as well as prior runs. Are there any differences?"
   ]
  },
  {
   "cell_type": "markdown",
   "metadata": {},
   "source": [
    "Converting log to html."
   ]
  },
  {
   "cell_type": "code",
   "execution_count": 1,
   "metadata": {},
   "outputs": [
    {
     "name": "stdout",
     "output_type": "stream",
     "text": [
      "/home/rogertu/WikiData/logs/Disease Ontology-20190415_23:31.log\n"
     ]
    },
    {
     "name": "stderr",
     "output_type": "stream",
     "text": [
      "/home/rogertu/WikiData/WD_Test/lib/python3.6/site-packages/pandas/core/generic.py:5079: FutureWarning: Attribute 'is_copy' is deprecated and will be removed in a future version.\n",
      "  object.__getattribute__(self, name)\n",
      "/home/rogertu/WikiData/WD_Test/lib/python3.6/site-packages/pandas/core/generic.py:5080: FutureWarning: Attribute 'is_copy' is deprecated and will be removed in a future version.\n",
      "  return object.__setattr__(self, name, value)\n"
     ]
    }
   ],
   "source": [
    "%%bash\n",
    "python3 /home/rogertu/WikiData/scheduled-bots/scheduled_bots/logger/bot_log_parser.py /home/rogertu/WikiData/logs/'Disease Ontology-20190415_23:31.log'"
   ]
  },
  {
   "cell_type": "markdown",
   "metadata": {},
   "source": [
    "</style>\n",
    "</head>\n",
    "<body>\n",
    "\n",
    "<h2>Disease Ontology Log Comparison between Jenkins and Roger</h2>\n",
    "\n",
    "<table>\n",
    "  <tr>\n",
    "    <th>Count</th>\n",
    "    <th>Jenkin's Run</th>\n",
    "    <th>Roger's Run</th>\n",
    "  </tr>\n",
    "  <tr>\n",
    "    <td>Items Processed Successfully</td>\n",
    "    <td>27,970</td>\n",
    "    <td>27,388</td>\n",
    "  </tr>\n",
    "  <tr>\n",
    "    <td>Items Skipped Due to a Warning</td>\n",
    "    <td>3,755</td>\n",
    "    <td>3,756</td>\n",
    "  </tr>\n",
    "  <tr>\n",
    "    <td>Items Skipped Due to an Error</td>\n",
    "    <td>4</td>\n",
    "    <td>15</td>\n",
    "  </tr>\n",
    "</table>\n",
    "\n",
    "<table>\n",
    "    <tr>\n",
    "        <th>Actions Taken</th>\n",
    "        <th>Jenkin's Run</th>\n",
    "        <th>Roger's Run</th>\n",
    "    </tr>\n",
    "    <tr>\n",
    "        <td>No Action</td>\n",
    "        <td> - </td>\n",
    "        <td>27,388</td>\n",
    "    </tr>\n",
    "    <tr>\n",
    "        <td>Update</td>\n",
    "        <td>27,966</td>\n",
    "        <td>3,756</td>\n",
    "    </tr>\n",
    "    <tr>\n",
    "        <td>Create</td>\n",
    "        <td>4</td>\n",
    "        <td>15</td>\n",
    "    </tr>\n",
    "</table>\n",
    "<table>\n",
    "    <tr>\n",
    "        <th>Error Types</th>\n",
    "        <th>Jenkin's Run</th>\n",
    "        <th>Roger's Run</th>\n",
    "    </tr>\n",
    "    <tr>\n",
    "        <td>.WDApiError</td>\n",
    "        <td> 11 </td>\n",
    "        <td>2</td>\n",
    "    </tr>\n",
    "    <tr>\n",
    "        <td>.NonUniqueLabeleDescriptionPairError</td>\n",
    "        <td>11</td>\n",
    "        <td>12</td>\n",
    "    </tr>\n",
    "    <tr>\n",
    "        <td>.ChunkedEncodingError</td>\n",
    "        <td>1</td>\n",
    "        <td>0</td>\n",
    "    </tr> \n",
    "    <tr>\n",
    "        <td>.ManualInterventionReqException</td>\n",
    "        <td>1</td>\n",
    "        <td>1</td>\n",
    "    </tr>\n",
    "</table>\n",
    "</body>\n",
    "</html>\n",
    "\n",
    "<br>\n"
   ]
  },
  {
   "cell_type": "markdown",
   "metadata": {},
   "source": [
    "Its seems that most of the edits were OMIM ID edits that seem related to PBB and krBot.   It seems that krBot deletes statements that PBB creates,. Take for example, \"split hand-foot malformation\" `Q30989072`.  If you go into the history, you can see  PBB updated items on March 4th, and KRBot Removed claims that were generated by PBB.  The main difference in this example seems to be that PBB associates OMIM ID to PS183600 and KRBot reassociates it with OMIM ID 183600 (missing the PS).  In Disease Ontology `.json` file, its listed as PS183600."
   ]
  },
  {
   "cell_type": "markdown",
   "metadata": {},
   "source": [
    "The issue with PBB and krBot seems to be the OMIM ID  `PS` (phenotypic series) removal ends up being too specific, in comparison to what would actually be referenced. For example, Inflammatory Bowel Disease  `Q917447` was linked by PBB (via Disease Ontology) to `PS266600`. Going onto the  OMIM website, if PS was searched, it would return a list of Irritable bowel diseases. However, the removal of PS links IBD specifically with Crohn's Disease (IBD-1).  The removal of PS, while more specific, makes the link between IBD and OMIM incorrect."
   ]
  },
  {
   "cell_type": "markdown",
   "metadata": {},
   "source": [
    "#### Alright. Let's Clone the right bits this time..\n",
    "Let's clone the branch `dev`"
   ]
  },
  {
   "cell_type": "code",
   "execution_count": null,
   "metadata": {},
   "outputs": [],
   "source": [
    "%%bash\n",
    "git clone --branch dev https://github.com/turoger/scheduled-bots.git"
   ]
  },
  {
   "cell_type": "markdown",
   "metadata": {},
   "source": [
    "Let's run the code now.\n",
    "* `obographs_DO.py` is missing a comma on line 30.\n",
    "* Need to create a copy of `local.py` (USER/PASS file) in scheduled-bots"
   ]
  },
  {
   "cell_type": "code",
   "execution_count": 3,
   "metadata": {},
   "outputs": [
    {
     "name": "stdout",
     "output_type": "stream",
     "text": [
      "https://www.wikidata.org/w/api.php\n",
      "Successfully logged in as Torogertu\n",
      "Done running obographs_DO\n"
     ]
    }
   ],
   "source": [
    "%%bash\n",
    "python3 Test/scheduled-bots/scheduled_bots/ontology/obographs_DO.py ./doid.json"
   ]
  },
  {
   "cell_type": "markdown",
   "metadata": {},
   "source": [
    "* Bot runs. Perfect. Now uncomment the last two lines in `obographs_DO.py` and delete indent. Check `try_write = false` in obographs.py)"
   ]
  },
  {
   "cell_type": "code",
   "execution_count": 5,
   "metadata": {},
   "outputs": [
    {
     "name": "stdout",
     "output_type": "stream",
     "text": [
      "Process is terminated.\n"
     ]
    }
   ],
   "source": [
    "%%bash\n",
    "python3 Test/scheduled-bots/scheduled_bots/ontology/obographs_DO.py ./doid.json"
   ]
  },
  {
   "cell_type": "markdown",
   "metadata": {},
   "source": [
    "#### It works! Terminating...\n",
    "Terminated the process because I wanted to just see if it would work. Looking at the logs, it seemed like it worked.  Linking  Seizure.  Muscular Hypotonia already has Human Phenotype Ontology ID linked. \n",
    "\n",
    "'http://purl.obolibrary.org/obo/HP_0001250', Seizures, Q852376 (convulsion | seizures) <br>\n",
    "'http://purl.obolibrary.org/obo/HP_0001252', Muscular hypotonia, Q1753547 (hypotonia | muscular hypotonia)"
   ]
  },
  {
   "cell_type": "code",
   "execution_count": 6,
   "metadata": {},
   "outputs": [
    {
     "name": "stdout",
     "output_type": "stream",
     "text": [
      "Process is terminated.\n"
     ]
    }
   ],
   "source": [
    "%%bash\n",
    "python3 Test/scheduled-bots/scheduled_bots/ontology/obographs_DO.py ./doid.json"
   ]
  },
  {
   "cell_type": "markdown",
   "metadata": {},
   "source": [
    "#### Terminating.\n",
    "Noticed that my account was still editing WikiData. No changes added to WikiData (+0 bytes). I guess not only does line 199 and 530 need to be changed to `False`, but also WikiData `try_write` itself.  Made ~ x < 1500 edits. Seemed to be a delay from when I ran the bot ~3:05pm to when it actually wrote WikiData, ~4:13pm. Noticed at 4:42pm. <br>\n",
    "<br>\n",
    "Changed WikiDataIntegrator wdihelper `__init__.py` statement for `try_write` to `False` as default... Run it again.. One last time."
   ]
  },
  {
   "cell_type": "code",
   "execution_count": null,
   "metadata": {},
   "outputs": [],
   "source": [
    "%%bash\n",
    "python3 Test/scheduled-bots/scheduled_bots/ontology/obographs_DO.py ./doid.json"
   ]
  },
  {
   "cell_type": "markdown",
   "metadata": {},
   "source": [
    "Convert log to html. Compare log to past runs. Does The addition of HP_0001250 to Q852376 decrease the count of updates?"
   ]
  },
  {
   "cell_type": "code",
   "execution_count": 1,
   "metadata": {},
   "outputs": [
    {
     "name": "stdout",
     "output_type": "stream",
     "text": [
      "/home/rogertu/WikiData/logs/Disease Ontology-20190418_00:08.log\n"
     ]
    },
    {
     "name": "stderr",
     "output_type": "stream",
     "text": [
      "/home/rogertu/WikiData/WD_Test2/lib/python3.6/site-packages/pandas/core/generic.py:5079: FutureWarning: Attribute 'is_copy' is deprecated and will be removed in a future version.\n",
      "  object.__getattribute__(self, name)\n",
      "/home/rogertu/WikiData/WD_Test2/lib/python3.6/site-packages/pandas/core/generic.py:5080: FutureWarning: Attribute 'is_copy' is deprecated and will be removed in a future version.\n",
      "  return object.__setattr__(self, name, value)\n"
     ]
    }
   ],
   "source": [
    "%%bash\n",
    "python3 /home/rogertu/WikiData/scheduled-bots/scheduled_bots/logger/bot_log_parser.py /home/rogertu/WikiData/logs/'Disease Ontology-20190418_00:08.log'"
   ]
  },
  {
   "cell_type": "markdown",
   "metadata": {},
   "source": [
    "#### So I wasn't aware that `HP_0001250` was already linked to Epilectic Seizure prior to me linking it to convulsion (seizures).\n",
    "predictable I got exactly 5 of these errors:\n",
    "`multiple qids ({'Q852376', 'Q6279182'}) found for: http://purl.obolibrary.org/obo/HP_0001250` <br>\n",
    "This points to the script working, and that the missing QID's really are just unlinked or not created items.  This past run (log file 2019418), had 1 error vs 15 from the past accidental WikiData write run. Interesting to see since this was a fresh virtual machine... Or could mean that all the errors were already written over from my accidental run..<br>\n",
    "\n",
    "To test if qid errors were based specifically on WikiData edits..\n",
    "* Change the QID reference for HP_0001250 back to only Epilectic Seizure `Q6279182` and remove tag from convulsions `Q852376`\n",
    "* link `http://purl.obolibrary.org/obo/HP_0002912` to Methylmalonic acidemia `Q742500`\t\t\n",
    "* link `http://purl.obolibrary.org/obo/HP_0003231` to hypertyrosinemia `Q39209282`\t\n",
    "<br>\n",
    "\n",
    "These edits should result in 11 less errors overall. (5 from Epilectic Seizure, 3 from the other two)\n"
   ]
  },
  {
   "cell_type": "code",
   "execution_count": null,
   "metadata": {},
   "outputs": [],
   "source": [
    "%%bash\n",
    "python3 Test/scheduled-bots/scheduled_bots/ontology/obographs_DO.py ./doid.json"
   ]
  },
  {
   "cell_type": "markdown",
   "metadata": {},
   "source": [
    "While waiting for the run... Most issues with multiple qids or no qids found are with human phenotype and uberon id's. This makes sense, as we added only `has phenotype` and `anatomical location/located in` to the script. Here's an example.<br> \n",
    "```\n",
    "multiple qids ({'Q75865', 'Q492038', 'Q1073'}) found for: http://purl.obolibrary.org/obo/UBERON_0000955\n",
    "```\n",
    "(Points to Brain). <br>\n",
    "<table>\n",
    "    <tr>\n",
    "        <th>QID</th>\n",
    "        <th>WD Reference</th>\n",
    "    </tr>\n",
    "    <tr>\n",
    "        <td>Q75865</td>\n",
    "        <td> human brain</td>\n",
    "    </tr>\n",
    "    <tr>\n",
    "        <td>Q492038</td>\n",
    "        <td>encephalon</td>\n",
    "    </tr>\n",
    "    <tr>\n",
    "        <td>Q1073</td>\n",
    "        <td>brain</td>\n",
    "    </tr> \n",
    "</table>\n",
    "</body>\n",
    "</html>"
   ]
  },
  {
   "cell_type": "markdown",
   "metadata": {},
   "source": [
    "#### Convert the log file"
   ]
  },
  {
   "cell_type": "code",
   "execution_count": 3,
   "metadata": {},
   "outputs": [
    {
     "name": "stdout",
     "output_type": "stream",
     "text": [
      "/home/rogertu/WikiData/logs/Disease Ontology-20190418_17:48.log\n"
     ]
    },
    {
     "name": "stderr",
     "output_type": "stream",
     "text": [
      "/home/rogertu/WikiData/WD_Test2/lib/python3.6/site-packages/pandas/core/generic.py:5079: FutureWarning: Attribute 'is_copy' is deprecated and will be removed in a future version.\n",
      "  object.__getattribute__(self, name)\n",
      "/home/rogertu/WikiData/WD_Test2/lib/python3.6/site-packages/pandas/core/generic.py:5080: FutureWarning: Attribute 'is_copy' is deprecated and will be removed in a future version.\n",
      "  return object.__setattr__(self, name, value)\n"
     ]
    }
   ],
   "source": [
    "%%bash\n",
    "python3 /home/rogertu/WikiData/scheduled-bots/scheduled_bots/logger/bot_log_parser.py /home/rogertu/WikiData/logs/'Disease Ontology-20190418_17:48.log'"
   ]
  },
  {
   "cell_type": "markdown",
   "metadata": {},
   "source": [
    "#### Log shows a decrease in errors by 11! (From 3831 to 3820)\n",
    "... Only 6 were updated however, and that's because the 5 that were broken were originally working.  <br> \n",
    "<br> Going back to `Notebook2` I ran the program with the two edge conditions `doid3_2.json` for DOID_13146 and 14796. The reason that only 1 QID was found for both test conditions was because UBERON-ID was loaded for DOID_13146, doesn't explain how thouhg as it isn't linked in Append_props (maybe its in `fastrun`...) and no QID found for growth delay linked to DOID14796 as is also unlinked on WikiData."
   ]
  },
  {
   "cell_type": "code",
   "execution_count": null,
   "metadata": {},
   "outputs": [],
   "source": []
  },
  {
   "cell_type": "code",
   "execution_count": null,
   "metadata": {},
   "outputs": [],
   "source": []
  },
  {
   "cell_type": "code",
   "execution_count": null,
   "metadata": {},
   "outputs": [],
   "source": []
  },
  {
   "cell_type": "code",
   "execution_count": null,
   "metadata": {},
   "outputs": [],
   "source": []
  },
  {
   "cell_type": "code",
   "execution_count": null,
   "metadata": {},
   "outputs": [],
   "source": []
  }
 ],
 "metadata": {
  "kernelspec": {
   "display_name": "Python 3",
   "language": "python",
   "name": "python3"
  },
  "language_info": {
   "codemirror_mode": {
    "name": "ipython",
    "version": 3
   },
   "file_extension": ".py",
   "mimetype": "text/x-python",
   "name": "python",
   "nbconvert_exporter": "python",
   "pygments_lexer": "ipython3",
   "version": "3.6.7"
  }
 },
 "nbformat": 4,
 "nbformat_minor": 2
}

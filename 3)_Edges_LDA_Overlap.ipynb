{
 "cells": [
  {
   "cell_type": "markdown",
   "metadata": {},
   "source": [
    "### Let's count how many times RO_0001025 occurs in the nodes and in the logicalDefinitionAxioms ###\n",
    "Made two files `doid_logDefAx.json` and `doid_edges.json`. Count the occurance of `RO_0001025`, `#derives_from`,`RO_0004019`, `IDO_0000664` and `so#has_origin`. <br>\n",
    "<br>\n",
    "#### Structure of `doid_logDefAx.json`: ####\n",
    "```\n",
    "[{\n",
    "    \"defClassId\": \"uri\",\n",
    "    \"genusId\": [\"uri\"],\n",
    "    \"restrictions\": [{\n",
    "        \"PropertyId\": \"uri\",\n",
    "        \"fillerId\": \"uri\"}]\n",
    "    }, ..., {...} ]\n",
    "``` \n",
    "<br><br>\n",
    "#### Structure of `doid_edges.json`: ####\n",
    "```\n",
    "[{\n",
    "    \"sub\": \"uri\",\n",
    "    \"pred\": \"uri\",\n",
    "    \"obj\": \"uri\"}, ..., {...}]\n",
    "```"
   ]
  },
  {
   "cell_type": "code",
   "execution_count": 1,
   "metadata": {},
   "outputs": [],
   "source": [
    "import json\n",
    "import pandas\n",
    "LDA_path = \"/home/rogertu/WikiData/doidtest/doid_logDefAx.json\"\n",
    "Edg_path = \"/home/rogertu/WikiData/doidtest/doid_edges.json\""
   ]
  },
  {
   "cell_type": "code",
   "execution_count": 2,
   "metadata": {},
   "outputs": [
    {
     "name": "stdout",
     "output_type": "stream",
     "text": [
      "lda here\n",
      " {'definedClassId': 'http://purl.obolibrary.org/obo/DOID_10020', 'genusIds': ['http://purl.obolibrary.org/obo/DOID_162'], 'restrictions': [{'propertyId': 'http://purl.obolibrary.org/obo/RO_0001025', 'fillerId': 'http://purl.obolibrary.org/obo/UBERON_0004913'}]}\n",
      "\n",
      "edg here\n",
      " {'sub': 'http://purl.obolibrary.org/obo/DOID_820', 'pred': 'http://purl.obolibrary.org/obo/RO_0001025', 'obj': 'http://purl.obolibrary.org/obo/UBERON_0000948'}\n"
     ]
    }
   ],
   "source": [
    "lda = json.load(open(LDA_path))\n",
    "edg = json.load(open(Edg_path))\n",
    "print(\"lda here\\n\", lda[0])\n",
    "print(\"\\nedg here\\n\", edg[0])"
   ]
  },
  {
   "cell_type": "code",
   "execution_count": 3,
   "metadata": {},
   "outputs": [
    {
     "name": "stdout",
     "output_type": "stream",
     "text": [
      "http://purl.obolibrary.org/obo/doid#derives_from\n",
      "http://purl.obolibrary.org/obo/so#has_origin\n",
      "http://purl.obolibrary.org/obo/RO_0001025\n",
      "http://purl.obolibrary.org/obo/IDO_0000664\n",
      "http://purl.obolibrary.org/obo/RO_0004019\n",
      "# of None Items:  1\n"
     ]
    }
   ],
   "source": [
    "# create a empty set to get unique propertyId's\n",
    "ldaSet = set()\n",
    "noneCount = 0\n",
    "for item in lda:\n",
    "    for anitem in item[\"restrictions\"]:\n",
    "        if anitem is None:\n",
    "            noneCount = +1\n",
    "        else:\n",
    "            ldaSet.add(anitem[\"propertyId\"])\n",
    "for item in ldaSet:\n",
    "    print (item)\n",
    "\n",
    "print(\"# of None Items: \", noneCount)"
   ]
  },
  {
   "cell_type": "code",
   "execution_count": 4,
   "metadata": {},
   "outputs": [],
   "source": [
    "ldaCounter = {\n",
    "    \"http://purl.obolibrary.org/obo/RO_0001025\" : 0,\n",
    "    \"http://purl.obolibrary.org/obo/doid#derives_from\" : 0,\n",
    "    \"http://purl.obolibrary.org/obo/RO_0004019\" : 0,\n",
    "    \"http://purl.obolibrary.org/obo/IDO_0000664\" : 0,\n",
    "    \"http://purl.obolibrary.org/obo/so#has_origin\" : 0\n",
    "}\n"
   ]
  },
  {
   "cell_type": "code",
   "execution_count": 5,
   "metadata": {},
   "outputs": [
    {
     "name": "stdout",
     "output_type": "stream",
     "text": [
      "http://purl.obolibrary.org/obo/RO_0001025 has 641 counts\n",
      "http://purl.obolibrary.org/obo/doid#derives_from has 23 counts\n",
      "http://purl.obolibrary.org/obo/RO_0004019 has 2 counts\n",
      "http://purl.obolibrary.org/obo/IDO_0000664 has 13 counts\n",
      "http://purl.obolibrary.org/obo/so#has_origin has 1 counts\n"
     ]
    }
   ],
   "source": [
    "#look for item iin propertyId and if it is in ldaCounter, +1 to definition\n",
    "\n",
    "for item in lda:\n",
    "    for anitem in item[\"restrictions\"]:\n",
    "        if anitem is not None:\n",
    "            x = anitem[\"propertyId\"]\n",
    "            if x in ldaCounter:\n",
    "                ldaCounter[x] = ldaCounter[x]+1\n",
    "for item in ldaCounter:\n",
    "    print (\"{} has {} counts\".format(item, ldaCounter[item])) "
   ]
  },
  {
   "cell_type": "code",
   "execution_count": 6,
   "metadata": {
    "scrolled": false
   },
   "outputs": [
    {
     "name": "stdout",
     "output_type": "stream",
     "text": [
      "http://purl.obolibrary.org/obo/doid#derives_from\n",
      "http://purl.obolibrary.org/obo/RO_0001022\n",
      "http://purl.obolibrary.org/obo/so#has_origin\n",
      "http://purl.obolibrary.org/obo/RO_0001025\n",
      "http://purl.obolibrary.org/obo/RO_0002451\n",
      "http://purl.obolibrary.org/obo/IDO_0000664\n",
      "http://purl.obolibrary.org/obo/RO_0002200\n",
      "is_a\n",
      "http://purl.obolibrary.org/obo/doid#has_symptom\n",
      "http://purl.obolibrary.org/obo/RO_0004019\n"
     ]
    }
   ],
   "source": [
    "# create a empty set to get unique predicates\n",
    "\n",
    "edgSet = set()\n",
    "\n",
    "for item in edg:\n",
    "    edgSet.add(item[\"pred\"])\n",
    "\n",
    "for item in edgSet:\n",
    "    print(item)"
   ]
  },
  {
   "cell_type": "code",
   "execution_count": 7,
   "metadata": {
    "scrolled": true
   },
   "outputs": [
    {
     "name": "stdout",
     "output_type": "stream",
     "text": [
      "{'http://purl.obolibrary.org/obo/doid#derives_from': 0, 'http://purl.obolibrary.org/obo/RO_0001022': 0, 'http://purl.obolibrary.org/obo/so#has_origin': 0, 'http://purl.obolibrary.org/obo/RO_0001025': 0, 'http://purl.obolibrary.org/obo/RO_0002451': 0, 'http://purl.obolibrary.org/obo/IDO_0000664': 0, 'http://purl.obolibrary.org/obo/RO_0002200': 0, 'is_a': 0, 'http://purl.obolibrary.org/obo/doid#has_symptom': 0, 'http://purl.obolibrary.org/obo/RO_0004019': 0}\n"
     ]
    }
   ],
   "source": [
    "# converts set to dictionary with values 0. Prints dictionary to confirm\n",
    "\n",
    "edgCounter = {x: 0 for x in edgSet}\n",
    "print(edgCounter)"
   ]
  },
  {
   "cell_type": "code",
   "execution_count": 8,
   "metadata": {},
   "outputs": [
    {
     "name": "stdout",
     "output_type": "stream",
     "text": [
      "http://purl.obolibrary.org/obo/doid#derives_from has 369 counts\n",
      "http://purl.obolibrary.org/obo/RO_0001022 has 121 counts\n",
      "http://purl.obolibrary.org/obo/so#has_origin has 3 counts\n",
      "http://purl.obolibrary.org/obo/RO_0001025 has 579 counts\n",
      "http://purl.obolibrary.org/obo/RO_0002451 has 74 counts\n",
      "http://purl.obolibrary.org/obo/IDO_0000664 has 717 counts\n",
      "http://purl.obolibrary.org/obo/RO_0002200 has 172 counts\n",
      "is_a has 10880 counts\n",
      "http://purl.obolibrary.org/obo/doid#has_symptom has 246 counts\n",
      "http://purl.obolibrary.org/obo/RO_0004019 has 917 counts\n"
     ]
    }
   ],
   "source": [
    "#look for 'pred' in edg and if its in edgCounter, +1 to definition\n",
    "\n",
    "for item in edg:\n",
    "    x = item[\"pred\"]\n",
    "    if x in edgCounter:\n",
    "        edgCounter[x] = edgCounter[x]+1\n",
    "\n",
    "for item in edgCounter:\n",
    "    print (\"{} has {} counts\".format(item, edgCounter[item])) "
   ]
  },
  {
   "cell_type": "code",
   "execution_count": null,
   "metadata": {},
   "outputs": [],
   "source": []
  },
  {
   "cell_type": "code",
   "execution_count": null,
   "metadata": {},
   "outputs": [],
   "source": []
  }
 ],
 "metadata": {
  "kernelspec": {
   "display_name": "Python 3",
   "language": "python",
   "name": "python3"
  },
  "language_info": {
   "codemirror_mode": {
    "name": "ipython",
    "version": 3
   },
   "file_extension": ".py",
   "mimetype": "text/x-python",
   "name": "python",
   "nbconvert_exporter": "python",
   "pygments_lexer": "ipython3",
   "version": "3.6.7"
  }
 },
 "nbformat": 4,
 "nbformat_minor": 2
}

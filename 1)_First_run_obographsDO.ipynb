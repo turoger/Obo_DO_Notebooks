{
 "cells": [
  {
   "cell_type": "markdown",
   "metadata": {},
   "source": [
    "## *Check Current Directories and Changing Directories* ##\n",
    "What current directory are we in?\n"
   ]
  },
  {
   "cell_type": "code",
   "execution_count": 1,
   "metadata": {},
   "outputs": [
    {
     "name": "stdout",
     "output_type": "stream",
     "text": [
      "/home/rogertu/WikiData\n"
     ]
    }
   ],
   "source": [
    "from pathlib import Path\n",
    "import os\n",
    "cwd = os.getcwd()\n",
    "print(cwd)"
   ]
  },
  {
   "cell_type": "markdown",
   "metadata": {},
   "source": [
    "Current directory is in /home/rogertu/WikiData on BlacksBeach server in WD_Test virtual environment.  The directory we want to map to is /scheduled-bots/scheduled_bots/ontology/obographs_DO.py"
   ]
  },
  {
   "cell_type": "code",
   "execution_count": 2,
   "metadata": {},
   "outputs": [
    {
     "name": "stdout",
     "output_type": "stream",
     "text": [
      "This is the file name  obographs_DO.py\n",
      "This is the suffix  .py\n"
     ]
    }
   ],
   "source": [
    "# maps filename variable to a specific location\n",
    "filename = Path(\"scheduled-bots/scheduled_bots/ontology/obographs_DO.py\")\n",
    "print(\"This is the file name \", filename.name)\n",
    "print(\"This is the suffix \", filename.suffix)\n"
   ]
  },
  {
   "cell_type": "markdown",
   "metadata": {},
   "source": [
    "## *Run obographs_DO.py* ##\n",
    "Does script run? Added print statement at end and commented out final lines."
   ]
  },
  {
   "cell_type": "code",
   "execution_count": 3,
   "metadata": {},
   "outputs": [
    {
     "ename": "ModuleNotFoundError",
     "evalue": "No module named 'wikidataintegrator'",
     "output_type": "error",
     "traceback": [
      "\u001b[0;31m---------------------------------------------------------------------------\u001b[0m",
      "\u001b[0;31mModuleNotFoundError\u001b[0m                       Traceback (most recent call last)",
      "\u001b[0;32m~/WikiData/scheduled-bots/scheduled_bots/ontology/obographs_DO.py\u001b[0m in \u001b[0;36m<module>\u001b[0;34m\u001b[0m\n\u001b[1;32m      2\u001b[0m \u001b[0;32mimport\u001b[0m \u001b[0mos\u001b[0m\u001b[0;34m\u001b[0m\u001b[0;34m\u001b[0m\u001b[0m\n\u001b[1;32m      3\u001b[0m \u001b[0;34m\u001b[0m\u001b[0m\n\u001b[0;32m----> 4\u001b[0;31m \u001b[0;32mfrom\u001b[0m \u001b[0mobographs\u001b[0m \u001b[0;32mimport\u001b[0m \u001b[0mGraph\u001b[0m\u001b[0;34m,\u001b[0m \u001b[0mNode\u001b[0m\u001b[0;34m\u001b[0m\u001b[0;34m\u001b[0m\u001b[0m\n\u001b[0m\u001b[1;32m      5\u001b[0m \u001b[0;32mfrom\u001b[0m \u001b[0mwikidataintegrator\u001b[0m \u001b[0;32mimport\u001b[0m \u001b[0mwdi_login\u001b[0m\u001b[0;34m\u001b[0m\u001b[0;34m\u001b[0m\u001b[0m\n\u001b[1;32m      6\u001b[0m \u001b[0;32mfrom\u001b[0m \u001b[0mscheduled_bots\u001b[0m \u001b[0;32mimport\u001b[0m \u001b[0mPROPS\u001b[0m\u001b[0;34m\u001b[0m\u001b[0;34m\u001b[0m\u001b[0m\n",
      "\u001b[0;32m~/WikiData/scheduled-bots/scheduled_bots/ontology/obographs.py\u001b[0m in \u001b[0;36m<module>\u001b[0;34m\u001b[0m\n\u001b[1;32m     22\u001b[0m \u001b[0;34m\u001b[0m\u001b[0m\n\u001b[1;32m     23\u001b[0m \u001b[0;32mfrom\u001b[0m \u001b[0mscheduled_bots\u001b[0m \u001b[0;32mimport\u001b[0m \u001b[0mutils\u001b[0m\u001b[0;34m\u001b[0m\u001b[0;34m\u001b[0m\u001b[0m\n\u001b[0;32m---> 24\u001b[0;31m \u001b[0;32mfrom\u001b[0m \u001b[0mwikidataintegrator\u001b[0m \u001b[0;32mimport\u001b[0m \u001b[0mwdi_core\u001b[0m\u001b[0;34m,\u001b[0m \u001b[0mwdi_helpers\u001b[0m\u001b[0;34m\u001b[0m\u001b[0;34m\u001b[0m\u001b[0m\n\u001b[0m\u001b[1;32m     25\u001b[0m \u001b[0;32mfrom\u001b[0m \u001b[0mwikidataintegrator\u001b[0m\u001b[0;34m.\u001b[0m\u001b[0mref_handlers\u001b[0m \u001b[0;32mimport\u001b[0m \u001b[0mupdate_release\u001b[0m\u001b[0;34m\u001b[0m\u001b[0;34m\u001b[0m\u001b[0m\n\u001b[1;32m     26\u001b[0m \u001b[0;32mfrom\u001b[0m \u001b[0mwikidataintegrator\u001b[0m\u001b[0;34m.\u001b[0m\u001b[0mwdi_helpers\u001b[0m \u001b[0;32mimport\u001b[0m \u001b[0mWikibaseHelper\u001b[0m\u001b[0;34m\u001b[0m\u001b[0;34m\u001b[0m\u001b[0m\n",
      "\u001b[0;31mModuleNotFoundError\u001b[0m: No module named 'wikidataintegrator'"
     ]
    }
   ],
   "source": [
    "#run file\n",
    "%run -i 'scheduled-bots/scheduled_bots/ontology/obographs_DO.py'"
   ]
  },
  {
   "cell_type": "markdown",
   "metadata": {},
   "source": [
    "## *Why are modules not loading?* ##"
   ]
  },
  {
   "cell_type": "markdown",
   "metadata": {},
   "source": [
    "Why are we not importing packages? Is it because we don't have an init?"
   ]
  },
  {
   "cell_type": "code",
   "execution_count": 16,
   "metadata": {},
   "outputs": [
    {
     "data": {
      "text/plain": [
       "'/home/rogertu/WikiData'"
      ]
     },
     "execution_count": 16,
     "metadata": {},
     "output_type": "execute_result"
    }
   ],
   "source": [
    "pwd"
   ]
  },
  {
   "cell_type": "code",
   "execution_count": 18,
   "metadata": {},
   "outputs": [
    {
     "ename": "SyntaxError",
     "evalue": "invalid syntax (<ipython-input-18-959bdd1fa264>, line 1)",
     "output_type": "error",
     "traceback": [
      "\u001b[0;36m  File \u001b[0;32m\"<ipython-input-18-959bdd1fa264>\"\u001b[0;36m, line \u001b[0;32m1\u001b[0m\n\u001b[0;31m    import scheduled-bots\u001b[0m\n\u001b[0m                    ^\u001b[0m\n\u001b[0;31mSyntaxError\u001b[0m\u001b[0;31m:\u001b[0m invalid syntax\n"
     ]
    }
   ],
   "source": [
    "import scheduled-bots"
   ]
  },
  {
   "cell_type": "code",
   "execution_count": 19,
   "metadata": {},
   "outputs": [
    {
     "name": "stdout",
     "output_type": "stream",
     "text": [
      "\n",
      "Usage:   \n",
      "  /home/rogertu/WikiData/WD_Test/bin/python3 -m pip <command> [options]\n",
      "\n",
      "Commands:\n",
      "  install                     Install packages.\n",
      "  download                    Download packages.\n",
      "  uninstall                   Uninstall packages.\n",
      "  freeze                      Output installed packages in requirements format.\n",
      "  list                        List installed packages.\n",
      "  show                        Show information about installed packages.\n",
      "  check                       Verify installed packages have compatible dependencies.\n",
      "  config                      Manage local and global configuration.\n",
      "  search                      Search PyPI for packages.\n",
      "  wheel                       Build wheels from your requirements.\n",
      "  hash                        Compute hashes of package archives.\n",
      "  completion                  A helper command used for command completion.\n",
      "  help                        Show help for commands.\n",
      "\n",
      "General Options:\n",
      "  -h, --help                  Show help.\n",
      "  --isolated                  Run pip in an isolated mode, ignoring\n",
      "                              environment variables and user configuration.\n",
      "  -v, --verbose               Give more output. Option is additive, and can be\n",
      "                              used up to 3 times.\n",
      "  -V, --version               Show version and exit.\n",
      "  -q, --quiet                 Give less output. Option is additive, and can be\n",
      "                              used up to 3 times (corresponding to WARNING,\n",
      "                              ERROR, and CRITICAL logging levels).\n",
      "  --log <path>                Path to a verbose appending log.\n",
      "  --proxy <proxy>             Specify a proxy in the form\n",
      "                              [user:passwd@]proxy.server:port.\n",
      "  --retries <retries>         Maximum number of retries each connection should\n",
      "                              attempt (default 5 times).\n",
      "  --timeout <sec>             Set the socket timeout (default 15 seconds).\n",
      "  --exists-action <action>    Default action when a path already exists:\n",
      "                              (s)witch, (i)gnore, (w)ipe, (b)ackup, (a)bort).\n",
      "  --trusted-host <hostname>   Mark this host as trusted, even though it does\n",
      "                              not have valid or any HTTPS.\n",
      "  --cert <path>               Path to alternate CA bundle.\n",
      "  --client-cert <path>        Path to SSL client certificate, a single file\n",
      "                              containing the private key and the certificate\n",
      "                              in PEM format.\n",
      "  --cache-dir <dir>           Store the cache data in <dir>.\n",
      "  --no-cache-dir              Disable the cache.\n",
      "  --disable-pip-version-check\n",
      "                              Don't periodically check PyPI to determine\n",
      "                              whether a new version of pip is available for\n",
      "                              download. Implied with --no-index.\n",
      "  --no-color                  Suppress colored output\n",
      "Note: you may need to restart the kernel to use updated packages.\n"
     ]
    }
   ],
   "source": [
    "pip"
   ]
  },
  {
   "cell_type": "code",
   "execution_count": 21,
   "metadata": {},
   "outputs": [],
   "source": [
    "import importlib"
   ]
  },
  {
   "cell_type": "code",
   "execution_count": 22,
   "metadata": {},
   "outputs": [
    {
     "data": {
      "text/plain": [
       "<module 'scheduled-bots' (namespace)>"
      ]
     },
     "execution_count": 22,
     "metadata": {},
     "output_type": "execute_result"
    }
   ],
   "source": [
    "importlib.import_module(\"scheduled-bots\")"
   ]
  },
  {
   "cell_type": "code",
   "execution_count": 25,
   "metadata": {},
   "outputs": [
    {
     "ename": "ModuleNotFoundError",
     "evalue": "No module named 'util'",
     "output_type": "error",
     "traceback": [
      "\u001b[0;31m---------------------------------------------------------------------------\u001b[0m",
      "\u001b[0;31mModuleNotFoundError\u001b[0m                       Traceback (most recent call last)",
      "\u001b[0;32m~/WikiData/scheduled-bots/scheduled_bots/ontology/obographs_DO.py\u001b[0m in \u001b[0;36m<module>\u001b[0;34m\u001b[0m\n\u001b[0;32m----> 1\u001b[0;31m \u001b[0;32mimport\u001b[0m \u001b[0mutil\u001b[0m\u001b[0;34m\u001b[0m\u001b[0;34m\u001b[0m\u001b[0m\n\u001b[0m",
      "\u001b[0;31mModuleNotFoundError\u001b[0m: No module named 'util'"
     ]
    }
   ],
   "source": [
    "import util"
   ]
  },
  {
   "cell_type": "code",
   "execution_count": 20,
   "metadata": {},
   "outputs": [
    {
     "name": "stdout",
     "output_type": "stream",
     "text": [
      "Package                Version  Location                             \n",
      "---------------------- -------- -------------------------------------\n",
      "antlr4-python3-runtime 4.7.2    \n",
      "asn1crypto             0.24.0   \n",
      "attrs                  19.1.0   \n",
      "backcall               0.1.0    \n",
      "bcrypt                 3.1.6    \n",
      "beautifulsoup4         4.7.1    \n",
      "biothings-client       0.2.0    \n",
      "bleach                 3.1.0    \n",
      "bs4                    0.0.1    \n",
      "cachetools             3.1.0    \n",
      "Cerberus               1.2      \n",
      "certifi                2019.3.9 \n",
      "cffi                   1.12.2   \n",
      "CFGraph                0.2.1    \n",
      "chardet                3.0.4    \n",
      "Click                  7.0      \n",
      "cryptography           2.6.1    \n",
      "DateTime               4.3      \n",
      "decorator              4.4.0    \n",
      "defusedxml             0.5.0    \n",
      "entrypoints            0.3      \n",
      "idna                   2.8      \n",
      "ipykernel              5.1.0    \n",
      "ipython                7.3.0    \n",
      "ipython-genutils       0.2.0    \n",
      "ipywidgets             7.4.2    \n",
      "isodate                0.6.0    \n",
      "jedi                   0.13.3   \n",
      "Jinja2                 2.10     \n",
      "jsonasobj              1.2.1    \n",
      "jsonschema             3.0.1    \n",
      "jupyter                1.0.0    \n",
      "jupyter-client         5.2.4    \n",
      "jupyter-console        6.0.0    \n",
      "jupyter-core           4.4.0    \n",
      "lxml                   4.3.2    \n",
      "MarkupSafe             1.1.1    \n",
      "mistune                0.8.4    \n",
      "multi-key-dict         2.0.3    \n",
      "mwclient               0.9.3    \n",
      "mwoauth                0.3.3    \n",
      "mwparserfromhell       0.5.2    \n",
      "mygene                 3.1.0    \n",
      "myvariant              1.0.0    \n",
      "nbconvert              5.4.1    \n",
      "nbformat               4.4.0    \n",
      "networkx               2.0      \n",
      "nose                   1.3.7    \n",
      "notebook               5.7.6    \n",
      "numpy                  1.16.2   \n",
      "oauthlib               3.0.1    \n",
      "pandas                 0.24.2   \n",
      "pandocfilters          1.4.2    \n",
      "paramiko               2.4.2    \n",
      "parso                  0.3.4    \n",
      "pbr                    5.1.3    \n",
      "pexpect                4.6.0    \n",
      "pickleshare            0.7.5    \n",
      "pip                    19.0.3   \n",
      "pkg-resources          0.0.0    \n",
      "prometheus-client      0.6.0    \n",
      "prompt-toolkit         2.0.9    \n",
      "ptyprocess             0.6.0    \n",
      "pyasn1                 0.4.5    \n",
      "pycparser              2.19     \n",
      "Pygments               2.3.1    \n",
      "PyJSG                  0.9.1    \n",
      "PyJWT                  1.7.1    \n",
      "pymongo                3.7.2    \n",
      "PyMySQL                0.9.3    \n",
      "PyNaCl                 1.3.0    \n",
      "pyparsing              2.3.1    \n",
      "pyrsistent             0.14.11  \n",
      "PyShEx                 0.7.10   \n",
      "PyShExC                0.6.1    \n",
      "python-dateutil        2.8.0    \n",
      "python-jenkins         1.4.0    \n",
      "pytz                   2018.9   \n",
      "pyzmq                  18.0.1   \n",
      "qtconsole              4.4.3    \n",
      "rdflib                 4.2.2    \n",
      "rdflib-jsonld          0.4.0    \n",
      "requests               2.21.0   \n",
      "requests-oauthlib      1.2.0    \n",
      "scheduled-bots         0.0.0    /home/rogertu/WikiData/scheduled-bots\n",
      "Send2Trash             1.5.0    \n",
      "setuptools             39.0.1   \n",
      "ShExJSG                0.6.8    \n",
      "simplejson             3.16.0   \n",
      "six                    1.12.0   \n",
      "soupsieve              1.8      \n",
      "sparql-slurper         0.2.1    \n",
      "SPARQLWrapper          1.8.2    \n",
      "sshtunnel              0.1.4    \n",
      "terminado              0.8.1    \n",
      "testpath               0.4.2    \n",
      "tornado                6.0.1    \n",
      "tqdm                   4.31.1   \n",
      "traitlets              4.3.2    \n",
      "urllib3                1.24.1   \n",
      "wcwidth                0.1.7    \n",
      "webencodings           0.5.1    \n",
      "widgetsnbextension     3.4.2    \n",
      "wikicurie              0.0.2    \n",
      "wikidataintegrator     0.3.1    \n",
      "xlwt                   1.3.0    \n",
      "zope.interface         4.6.0    \n",
      "Note: you may need to restart the kernel to use updated packages.\n"
     ]
    }
   ],
   "source": [
    "pip list"
   ]
  },
  {
   "cell_type": "code",
   "execution_count": 4,
   "metadata": {},
   "outputs": [
    {
     "name": "stdout",
     "output_type": "stream",
     "text": [
      "cgi\n",
      "civic\n",
      "disease_ontology\n",
      "drugs\n",
      "faers\n",
      "fda\n",
      "genedisease\n",
      "gene_disease_phenotype\n",
      "geneprotein\n",
      "iedb\n",
      "__init__.py\n",
      "interpro\n",
      "inxight\n",
      "local.py\n",
      "logger\n",
      "notes.md\n",
      "ontology\n",
      "pbb_tracker\n",
      "phenotypes\n",
      "query_tester\n",
      "reactome\n",
      "scripts\n",
      "shextest\n",
      "talk_jenkins\n",
      "trigger\n",
      "utils.py\n",
      "variant\n",
      "wikipathways\n"
     ]
    }
   ],
   "source": [
    "%%bash\n",
    "cd /home/rogertu/WikiData/scheduled-bots/scheduled_bots/\n",
    "ls"
   ]
  },
  {
   "cell_type": "markdown",
   "metadata": {},
   "source": [
    "Definitely have an \"__init__\""
   ]
  },
  {
   "cell_type": "code",
   "execution_count": 5,
   "metadata": {},
   "outputs": [
    {
     "ename": "ModuleNotFoundError",
     "evalue": "No module named 'scheduled_bots'",
     "output_type": "error",
     "traceback": [
      "\u001b[0;31m---------------------------------------------------------------------------\u001b[0m",
      "\u001b[0;31mModuleNotFoundError\u001b[0m                       Traceback (most recent call last)",
      "\u001b[0;32m~/WikiData/scheduled-bots/scheduled_bots/ontology/obographs_DO.py\u001b[0m in \u001b[0;36m<module>\u001b[0;34m\u001b[0m\n\u001b[0;32m----> 1\u001b[0;31m \u001b[0;32mimport\u001b[0m \u001b[0mscheduled_bots\u001b[0m\u001b[0;34m\u001b[0m\u001b[0;34m\u001b[0m\u001b[0m\n\u001b[0m",
      "\u001b[0;31mModuleNotFoundError\u001b[0m: No module named 'scheduled_bots'"
     ]
    }
   ],
   "source": [
    "import scheduled_bots"
   ]
  },
  {
   "cell_type": "code",
   "execution_count": 6,
   "metadata": {},
   "outputs": [
    {
     "ename": "ModuleNotFoundError",
     "evalue": "No module named 'utils'",
     "output_type": "error",
     "traceback": [
      "\u001b[0;31m---------------------------------------------------------------------------\u001b[0m",
      "\u001b[0;31mModuleNotFoundError\u001b[0m                       Traceback (most recent call last)",
      "\u001b[0;32m~/WikiData/scheduled-bots/scheduled_bots/ontology/obographs_DO.py\u001b[0m in \u001b[0;36m<module>\u001b[0;34m\u001b[0m\n\u001b[0;32m----> 1\u001b[0;31m \u001b[0;32mimport\u001b[0m \u001b[0mutils\u001b[0m\u001b[0;34m\u001b[0m\u001b[0;34m\u001b[0m\u001b[0m\n\u001b[0m",
      "\u001b[0;31mModuleNotFoundError\u001b[0m: No module named 'utils'"
     ]
    }
   ],
   "source": [
    "import utils"
   ]
  },
  {
   "cell_type": "code",
   "execution_count": 7,
   "metadata": {},
   "outputs": [
    {
     "ename": "ModuleNotFoundError",
     "evalue": "No module named 'scheduled_bots'",
     "output_type": "error",
     "traceback": [
      "\u001b[0;31m---------------------------------------------------------------------------\u001b[0m",
      "\u001b[0;31mModuleNotFoundError\u001b[0m                       Traceback (most recent call last)",
      "\u001b[0;32m~/WikiData/scheduled-bots/scheduled_bots/ontology/obographs_DO.py\u001b[0m in \u001b[0;36m<module>\u001b[0;34m\u001b[0m\n\u001b[0;32m----> 1\u001b[0;31m \u001b[0;32mimport\u001b[0m \u001b[0mscheduled_bots\u001b[0m\u001b[0;34m.\u001b[0m\u001b[0mutils\u001b[0m\u001b[0;34m\u001b[0m\u001b[0;34m\u001b[0m\u001b[0m\n\u001b[0m",
      "\u001b[0;31mModuleNotFoundError\u001b[0m: No module named 'scheduled_bots'"
     ]
    }
   ],
   "source": [
    "import scheduled_bots.utils"
   ]
  },
  {
   "cell_type": "markdown",
   "metadata": {},
   "source": [
    "Seems like the module isn't showing up... Does python know it exists?"
   ]
  },
  {
   "cell_type": "code",
   "execution_count": 8,
   "metadata": {},
   "outputs": [
    {
     "name": "stdout",
     "output_type": "stream",
     "text": [
      "\n",
      "Please wait a moment while I gather a list of all available modules...\n",
      "\n"
     ]
    },
    {
     "name": "stderr",
     "output_type": "stream",
     "text": [
      "/home/rogertu/WikiData/WD_Test/lib/python3.6/site-packages/IPython/kernel/__init__.py:13: ShimWarning: The `IPython.kernel` package has been deprecated since IPython 4.0.You should import from ipykernel or jupyter_client instead.\n",
      "  \"You should import from ipykernel or jupyter_client instead.\", ShimWarning)\n",
      "/home/rogertu/WikiData/WD_Test/lib/python3.6/site-packages/nbconvert/exporters/exporter_locator.py:28: DeprecationWarning: `nbconvert.exporters.exporter_locator` is deprecated in favor of `nbconvert.exporters.base` since nbconvert 5.0.\n",
      "  DeprecationWarning)\n"
     ]
    },
    {
     "name": "stdout",
     "output_type": "stream",
     "text": [
      "CFGraph             bcrypt              jupyter             reprlib\n",
      "DateTime            bdb                 jupyter_client      requests\n",
      "IPython             binascii            jupyter_console     requests_oauthlib\n",
      "SPARQLWrapper       binhex              jupyter_core        resource\n",
      "ShExJSG             biothings_client    jwt                 rlcompleter\n",
      "__future__          bisect              keyword             rmagic\n",
      "_ast                bleach              lib2to3             runpy\n",
      "_asyncio            bs4                 linecache           sched\n",
      "_bisect             bson                locale              secrets\n",
      "_blake2             builtins            logging             select\n",
      "_bootlocale         bz2                 lxml                selectors\n",
      "_bz2                cProfile            lzma                send2trash\n",
      "_cffi_backend       cachetools          macpath             setuptools\n",
      "_codecs             calendar            macurl2path         shelve\n",
      "_codecs_cn          cerberus            mailbox             shlex\n",
      "_codecs_hk          certifi             mailcap             shutil\n",
      "_codecs_iso2022     cffi                markupsafe          signal\n",
      "_codecs_jp          cgi                 marshal             simplejson\n",
      "_codecs_kr          cgitb               math                site\n",
      "_codecs_tw          chardet             mimetypes           sitecustomize\n",
      "_collections        chunk               mistune             six\n",
      "_collections_abc    click               mmap                smtpd\n",
      "_compat_pickle      cmath               modulefinder        smtplib\n",
      "_compression        cmd                 multi_key_dict      sndhdr\n",
      "_crypt              code                multiprocessing     socket\n",
      "_csv                codecs              mwclient            socketserver\n",
      "_ctypes             codeop              mwoauth             soupsieve\n",
      "_ctypes_test        collections         mwparserfromhell    sparql_slurper\n",
      "_curses             colorsys            mygene              spwd\n",
      "_curses_panel       compileall          myvariant           sqlite3\n",
      "_datetime           concurrent          nacl                sre_compile\n",
      "_dbm                configparser        nbconvert           sre_constants\n",
      "_decimal            contextlib          nbformat            sre_parse\n",
      "_dummy_thread       copy                netrc               sshtunnel\n",
      "_elementtree        copyreg             networkx            ssl\n",
      "_functools          crypt               nis                 stat\n",
      "_gdbm               cryptography        nntplib             statistics\n",
      "_hashlib            csv                 nose                storemagic\n",
      "_heapq              ctypes              notebook            string\n",
      "_imp                curses              ntpath              stringprep\n",
      "_io                 cythonmagic         nturl2path          struct\n",
      "_json               datetime            numbers             subprocess\n",
      "_locale             dateutil            numpy               sunau\n",
      "_lsprof             dbm                 oauthlib            symbol\n",
      "_lzma               decimal             opcode              sympyprinting\n",
      "_markupbase         decorator           operator            symtable\n",
      "_md5                defusedxml          optparse            sys\n",
      "_multibytecodec     difflib             os                  sysconfig\n",
      "_multiprocessing    dis                 ossaudiodev         syslog\n",
      "_opcode             distutils           pandas              tabnanny\n",
      "_operator           doctest             pandocfilters       tarfile\n",
      "_osx_support        dummy_threading     paramiko            telnetlib\n",
      "_pickle             easy_install        parser              tempfile\n",
      "_posixsubprocess    email               parso               terminado\n",
      "_pydecimal          encodings           pathlib             termios\n",
      "_pyio               ensurepip           pbr                 test\n",
      "_pyrsistent_version entrypoints         pdb                 testpath\n",
      "_random             enum                pexpect             tests\n",
      "_sha1               errno               pickle              textwrap\n",
      "_sha256             faulthandler        pickleshare         this\n",
      "_sha3               fcntl               pickletools         threading\n",
      "_sha512             filecmp             pip                 time\n",
      "_signal             fileinput           pipes               timeit\n",
      "_sitebuiltins       fnmatch             pkg_resources       token\n",
      "_socket             formatter           pkgutil             tokenize\n",
      "_sqlite3            fractions           platform            tornado\n",
      "_sre                ftplib              plistlib            tqdm\n",
      "_ssl                functools           poplib              trace\n",
      "_stat               gc                  posix               traceback\n",
      "_string             genericpath         posixpath           tracemalloc\n",
      "_strptime           getopt              pprint              traitlets\n",
      "_struct             getpass             profile             tty\n",
      "_symtable           gettext             prometheus_client   turtle\n",
      "_sysconfigdata_m_linux_x86_64-linux-gnu glob                prompt_toolkit      types\n",
      "_testbuffer         gridfs              pstats              typing\n",
      "_testcapi           grp                 pty                 unicodedata\n",
      "_testimportmultiple gzip                ptyprocess          unittest\n",
      "_testmultiphase     hashlib             pvectorc            urllib\n",
      "_thread             heapq               pwd                 urllib3\n",
      "_threading_local    hmac                py_compile          uu\n",
      "_tracemalloc        html                pyasn1              uuid\n",
      "_warnings           http                pyclbr              venv\n",
      "_weakref            idna                pycparser           warnings\n",
      "_weakrefset         imaplib             pydoc               wave\n",
      "abc                 imghdr              pydoc_data          wcwidth\n",
      "aifc                imp                 pyexpat             weakref\n",
      "ancilliary          importlib           pygments            webbrowser\n",
      "antigravity         inspect             pymongo             webencodings\n",
      "antlr4              io                  pymysql             widgetsnbextension\n",
      "argparse            ipaddress           pyparsing           wikidataintegrator\n",
      "array               ipykernel           pyrsistent          wsgiref\n",
      "asn1crypto          ipykernel_launcher  pyshex              xdrlib\n",
      "ast                 ipython_genutils    pyshexc             xlwt\n",
      "asynchat            ipywidgets          pytz                xml\n",
      "asyncio             isodate             qtconsole           xmlrpc\n",
      "asyncore            itertools           queue               xxlimited\n",
      "atexit              jedi                quopri              xxsubtype\n",
      "attr                jenkins             random              zipapp\n",
      "audioop             jinja2              rdflib              zipfile\n",
      "autoreload          json                rdflib_jsonld       zipimport\n",
      "backcall            jsonasobj           re                  zlib\n",
      "base64              jsonschema          readline            zmq\n",
      "\n",
      "Enter any module name to get more help.  Or, type \"modules spam\" to search\n",
      "for modules whose name or summary contain the string \"spam\".\n",
      "\n"
     ]
    },
    {
     "name": "stderr",
     "output_type": "stream",
     "text": [
      "/usr/lib/python3.6/pkgutil.py:107: VisibleDeprecationWarning: zmq.eventloop.minitornado is deprecated in pyzmq 14.0 and will be removed.\n",
      "    Install tornado itself to use zmq with the tornado IOLoop.\n",
      "    \n",
      "  yield from walk_packages(path, info.name+'.', onerror)\n"
     ]
    }
   ],
   "source": [
    "help(\"modules\")"
   ]
  },
  {
   "cell_type": "code",
   "execution_count": 9,
   "metadata": {},
   "outputs": [
    {
     "name": "stdout",
     "output_type": "stream",
     "text": [
      "/home/rogertu/WikiData/WD_Test/bin/python\n",
      "Python 3.6.7\n"
     ]
    }
   ],
   "source": [
    "%%bash\n",
    "which python\n",
    "python --version"
   ]
  },
  {
   "cell_type": "markdown",
   "metadata": {},
   "source": [
    "## *Troubleshooting scheduled_bots (utils module)* ##\n",
    "```from scheduled_bots import utils``` scheduled_bots exists under scheduled-bots. I can't import `scheduled-bots` because it doesn't fit proper python naming convention for import. `utils` exists under`scheduled_bots`. `scheduled_bots` should be recognized by system as it has an `__init__`.  Installed `setup.py` with `pip install -e .`. Module now hangs at obographs... why?"
   ]
  },
  {
   "cell_type": "code",
   "execution_count": 10,
   "metadata": {},
   "outputs": [
    {
     "name": "stdout",
     "output_type": "stream",
     "text": [
      "/home/rogertu/WikiData\n"
     ]
    }
   ],
   "source": [
    "%%bash\n",
    "pwd"
   ]
  },
  {
   "cell_type": "code",
   "execution_count": 11,
   "metadata": {},
   "outputs": [
    {
     "name": "stderr",
     "output_type": "stream",
     "text": [
      "Traceback (most recent call last):\n",
      "  File \"/usr/lib/python3.6/runpy.py\", line 193, in _run_module_as_main\n",
      "    \"__main__\", mod_spec)\n",
      "  File \"/usr/lib/python3.6/runpy.py\", line 85, in _run_code\n",
      "    exec(code, run_globals)\n",
      "  File \"/home/rogertu/WikiData/scheduled-bots/scheduled_bots/ontology/obographs_DO.py\", line 4, in <module>\n",
      "    from obographs import Graph, Node\n",
      "ModuleNotFoundError: No module named 'obographs'\n"
     ]
    },
    {
     "ename": "CalledProcessError",
     "evalue": "Command 'b'python3 -m scheduled-bots.scheduled_bots.ontology.obographs_DO\\n'' returned non-zero exit status 1.",
     "output_type": "error",
     "traceback": [
      "\u001b[0;31m---------------------------------------------------------------------------\u001b[0m",
      "\u001b[0;31mCalledProcessError\u001b[0m                        Traceback (most recent call last)",
      "\u001b[0;32m~/WikiData/scheduled-bots/scheduled_bots/ontology/obographs_DO.py\u001b[0m in \u001b[0;36m<module>\u001b[0;34m\u001b[0m\n\u001b[0;32m----> 1\u001b[0;31m \u001b[0mget_ipython\u001b[0m\u001b[0;34m(\u001b[0m\u001b[0;34m)\u001b[0m\u001b[0;34m.\u001b[0m\u001b[0mrun_cell_magic\u001b[0m\u001b[0;34m(\u001b[0m\u001b[0;34m'bash'\u001b[0m\u001b[0;34m,\u001b[0m \u001b[0;34m''\u001b[0m\u001b[0;34m,\u001b[0m \u001b[0;34m'python3 -m scheduled-bots.scheduled_bots.ontology.obographs_DO\\n'\u001b[0m\u001b[0;34m)\u001b[0m\u001b[0;34m\u001b[0m\u001b[0;34m\u001b[0m\u001b[0m\n\u001b[0m",
      "\u001b[0;32m~/WikiData/WD_Test/lib/python3.6/site-packages/IPython/core/interactiveshell.py\u001b[0m in \u001b[0;36mrun_cell_magic\u001b[0;34m(self, magic_name, line, cell)\u001b[0m\n\u001b[1;32m   2345\u001b[0m                 \u001b[0mmagic_arg_s\u001b[0m \u001b[0;34m=\u001b[0m \u001b[0mself\u001b[0m\u001b[0;34m.\u001b[0m\u001b[0mvar_expand\u001b[0m\u001b[0;34m(\u001b[0m\u001b[0mline\u001b[0m\u001b[0;34m,\u001b[0m \u001b[0mstack_depth\u001b[0m\u001b[0;34m)\u001b[0m\u001b[0;34m\u001b[0m\u001b[0;34m\u001b[0m\u001b[0m\n\u001b[1;32m   2346\u001b[0m             \u001b[0;32mwith\u001b[0m \u001b[0mself\u001b[0m\u001b[0;34m.\u001b[0m\u001b[0mbuiltin_trap\u001b[0m\u001b[0;34m:\u001b[0m\u001b[0;34m\u001b[0m\u001b[0;34m\u001b[0m\u001b[0m\n\u001b[0;32m-> 2347\u001b[0;31m                 \u001b[0mresult\u001b[0m \u001b[0;34m=\u001b[0m \u001b[0mfn\u001b[0m\u001b[0;34m(\u001b[0m\u001b[0mmagic_arg_s\u001b[0m\u001b[0;34m,\u001b[0m \u001b[0mcell\u001b[0m\u001b[0;34m)\u001b[0m\u001b[0;34m\u001b[0m\u001b[0;34m\u001b[0m\u001b[0m\n\u001b[0m\u001b[1;32m   2348\u001b[0m             \u001b[0;32mreturn\u001b[0m \u001b[0mresult\u001b[0m\u001b[0;34m\u001b[0m\u001b[0;34m\u001b[0m\u001b[0m\n\u001b[1;32m   2349\u001b[0m \u001b[0;34m\u001b[0m\u001b[0m\n",
      "\u001b[0;32m~/WikiData/WD_Test/lib/python3.6/site-packages/IPython/core/magics/script.py\u001b[0m in \u001b[0;36mnamed_script_magic\u001b[0;34m(line, cell)\u001b[0m\n\u001b[1;32m    140\u001b[0m             \u001b[0;32melse\u001b[0m\u001b[0;34m:\u001b[0m\u001b[0;34m\u001b[0m\u001b[0;34m\u001b[0m\u001b[0m\n\u001b[1;32m    141\u001b[0m                 \u001b[0mline\u001b[0m \u001b[0;34m=\u001b[0m \u001b[0mscript\u001b[0m\u001b[0;34m\u001b[0m\u001b[0;34m\u001b[0m\u001b[0m\n\u001b[0;32m--> 142\u001b[0;31m             \u001b[0;32mreturn\u001b[0m \u001b[0mself\u001b[0m\u001b[0;34m.\u001b[0m\u001b[0mshebang\u001b[0m\u001b[0;34m(\u001b[0m\u001b[0mline\u001b[0m\u001b[0;34m,\u001b[0m \u001b[0mcell\u001b[0m\u001b[0;34m)\u001b[0m\u001b[0;34m\u001b[0m\u001b[0;34m\u001b[0m\u001b[0m\n\u001b[0m\u001b[1;32m    143\u001b[0m \u001b[0;34m\u001b[0m\u001b[0m\n\u001b[1;32m    144\u001b[0m         \u001b[0;31m# write a basic docstring:\u001b[0m\u001b[0;34m\u001b[0m\u001b[0;34m\u001b[0m\u001b[0;34m\u001b[0m\u001b[0m\n",
      "\u001b[0;32m</home/rogertu/WikiData/WD_Test/lib/python3.6/site-packages/decorator.py:decorator-gen-110>\u001b[0m in \u001b[0;36mshebang\u001b[0;34m(self, line, cell)\u001b[0m\n",
      "\u001b[0;32m~/WikiData/WD_Test/lib/python3.6/site-packages/IPython/core/magic.py\u001b[0m in \u001b[0;36m<lambda>\u001b[0;34m(f, *a, **k)\u001b[0m\n\u001b[1;32m    185\u001b[0m     \u001b[0;31m# but it's overkill for just that one bit of state.\u001b[0m\u001b[0;34m\u001b[0m\u001b[0;34m\u001b[0m\u001b[0;34m\u001b[0m\u001b[0m\n\u001b[1;32m    186\u001b[0m     \u001b[0;32mdef\u001b[0m \u001b[0mmagic_deco\u001b[0m\u001b[0;34m(\u001b[0m\u001b[0marg\u001b[0m\u001b[0;34m)\u001b[0m\u001b[0;34m:\u001b[0m\u001b[0;34m\u001b[0m\u001b[0;34m\u001b[0m\u001b[0m\n\u001b[0;32m--> 187\u001b[0;31m         \u001b[0mcall\u001b[0m \u001b[0;34m=\u001b[0m \u001b[0;32mlambda\u001b[0m \u001b[0mf\u001b[0m\u001b[0;34m,\u001b[0m \u001b[0;34m*\u001b[0m\u001b[0ma\u001b[0m\u001b[0;34m,\u001b[0m \u001b[0;34m**\u001b[0m\u001b[0mk\u001b[0m\u001b[0;34m:\u001b[0m \u001b[0mf\u001b[0m\u001b[0;34m(\u001b[0m\u001b[0;34m*\u001b[0m\u001b[0ma\u001b[0m\u001b[0;34m,\u001b[0m \u001b[0;34m**\u001b[0m\u001b[0mk\u001b[0m\u001b[0;34m)\u001b[0m\u001b[0;34m\u001b[0m\u001b[0;34m\u001b[0m\u001b[0m\n\u001b[0m\u001b[1;32m    188\u001b[0m \u001b[0;34m\u001b[0m\u001b[0m\n\u001b[1;32m    189\u001b[0m         \u001b[0;32mif\u001b[0m \u001b[0mcallable\u001b[0m\u001b[0;34m(\u001b[0m\u001b[0marg\u001b[0m\u001b[0;34m)\u001b[0m\u001b[0;34m:\u001b[0m\u001b[0;34m\u001b[0m\u001b[0;34m\u001b[0m\u001b[0m\n",
      "\u001b[0;32m~/WikiData/WD_Test/lib/python3.6/site-packages/IPython/core/magics/script.py\u001b[0m in \u001b[0;36mshebang\u001b[0;34m(self, line, cell)\u001b[0m\n\u001b[1;32m    243\u001b[0m             \u001b[0msys\u001b[0m\u001b[0;34m.\u001b[0m\u001b[0mstderr\u001b[0m\u001b[0;34m.\u001b[0m\u001b[0mflush\u001b[0m\u001b[0;34m(\u001b[0m\u001b[0;34m)\u001b[0m\u001b[0;34m\u001b[0m\u001b[0;34m\u001b[0m\u001b[0m\n\u001b[1;32m    244\u001b[0m         \u001b[0;32mif\u001b[0m \u001b[0margs\u001b[0m\u001b[0;34m.\u001b[0m\u001b[0mraise_error\u001b[0m \u001b[0;32mand\u001b[0m \u001b[0mp\u001b[0m\u001b[0;34m.\u001b[0m\u001b[0mreturncode\u001b[0m\u001b[0;34m!=\u001b[0m\u001b[0;36m0\u001b[0m\u001b[0;34m:\u001b[0m\u001b[0;34m\u001b[0m\u001b[0;34m\u001b[0m\u001b[0m\n\u001b[0;32m--> 245\u001b[0;31m             \u001b[0;32mraise\u001b[0m \u001b[0mCalledProcessError\u001b[0m\u001b[0;34m(\u001b[0m\u001b[0mp\u001b[0m\u001b[0;34m.\u001b[0m\u001b[0mreturncode\u001b[0m\u001b[0;34m,\u001b[0m \u001b[0mcell\u001b[0m\u001b[0;34m,\u001b[0m \u001b[0moutput\u001b[0m\u001b[0;34m=\u001b[0m\u001b[0mout\u001b[0m\u001b[0;34m,\u001b[0m \u001b[0mstderr\u001b[0m\u001b[0;34m=\u001b[0m\u001b[0merr\u001b[0m\u001b[0;34m)\u001b[0m\u001b[0;34m\u001b[0m\u001b[0;34m\u001b[0m\u001b[0m\n\u001b[0m\u001b[1;32m    246\u001b[0m \u001b[0;34m\u001b[0m\u001b[0m\n\u001b[1;32m    247\u001b[0m     \u001b[0;32mdef\u001b[0m \u001b[0m_run_script\u001b[0m\u001b[0;34m(\u001b[0m\u001b[0mself\u001b[0m\u001b[0;34m,\u001b[0m \u001b[0mp\u001b[0m\u001b[0;34m,\u001b[0m \u001b[0mcell\u001b[0m\u001b[0;34m,\u001b[0m \u001b[0mto_close\u001b[0m\u001b[0;34m)\u001b[0m\u001b[0;34m:\u001b[0m\u001b[0;34m\u001b[0m\u001b[0;34m\u001b[0m\u001b[0m\n",
      "\u001b[0;31mCalledProcessError\u001b[0m: Command 'b'python3 -m scheduled-bots.scheduled_bots.ontology.obographs_DO\\n'' returned non-zero exit status 1."
     ]
    }
   ],
   "source": [
    "%%bash\n",
    "python3 -m scheduled-bots.scheduled_bots.ontology.obographs_DO"
   ]
  },
  {
   "cell_type": "code",
   "execution_count": 12,
   "metadata": {},
   "outputs": [
    {
     "ename": "NameError",
     "evalue": "name 'scheduled' is not defined",
     "output_type": "error",
     "traceback": [
      "\u001b[0;31m---------------------------------------------------------------------------\u001b[0m",
      "\u001b[0;31mNameError\u001b[0m                                 Traceback (most recent call last)",
      "\u001b[0;32m~/WikiData/scheduled-bots/scheduled_bots/ontology/obographs_DO.py\u001b[0m in \u001b[0;36m<module>\u001b[0;34m\u001b[0m\n\u001b[0;32m----> 1\u001b[0;31m \u001b[0mscheduled\u001b[0m\u001b[0;34m-\u001b[0m\u001b[0mbots\u001b[0m\u001b[0;34m.\u001b[0m\u001b[0mscheduled_bots\u001b[0m\u001b[0;34m.\u001b[0m\u001b[0montology\u001b[0m\u001b[0;34m.\u001b[0m\u001b[0mobographs_DO\u001b[0m\u001b[0;34m\u001b[0m\u001b[0;34m\u001b[0m\u001b[0m\n\u001b[0m",
      "\u001b[0;31mNameError\u001b[0m: name 'scheduled' is not defined"
     ]
    }
   ],
   "source": [
    "scheduled-bots.scheduled_bots.ontology.obographs_DO"
   ]
  },
  {
   "cell_type": "code",
   "execution_count": 14,
   "metadata": {},
   "outputs": [
    {
     "ename": "ModuleNotFoundError",
     "evalue": "No module named 'WikiData'",
     "output_type": "error",
     "traceback": [
      "\u001b[0;31m---------------------------------------------------------------------------\u001b[0m",
      "\u001b[0;31mModuleNotFoundError\u001b[0m                       Traceback (most recent call last)",
      "\u001b[0;32m~/WikiData/scheduled-bots/scheduled_bots/ontology/obographs_DO.py\u001b[0m in \u001b[0;36m<module>\u001b[0;34m\u001b[0m\n\u001b[0;32m----> 1\u001b[0;31m \u001b[0;32mfrom\u001b[0m \u001b[0mWikiData\u001b[0m \u001b[0;32mimport\u001b[0m \u001b[0mutil\u001b[0m\u001b[0;34m\u001b[0m\u001b[0;34m\u001b[0m\u001b[0m\n\u001b[0m",
      "\u001b[0;31mModuleNotFoundError\u001b[0m: No module named 'WikiData'"
     ]
    }
   ],
   "source": [
    "from WikiData import util"
   ]
  },
  {
   "cell_type": "code",
   "execution_count": 15,
   "metadata": {},
   "outputs": [
    {
     "ename": "ModuleNotFoundError",
     "evalue": "No module named 'WikiData'",
     "output_type": "error",
     "traceback": [
      "\u001b[0;31m---------------------------------------------------------------------------\u001b[0m",
      "\u001b[0;31mModuleNotFoundError\u001b[0m                       Traceback (most recent call last)",
      "\u001b[0;32m~/WikiData/scheduled-bots/scheduled_bots/ontology/obographs_DO.py\u001b[0m in \u001b[0;36m<module>\u001b[0;34m\u001b[0m\n\u001b[0;32m----> 1\u001b[0;31m \u001b[0;32mimport\u001b[0m \u001b[0mWikiData\u001b[0m\u001b[0;34m\u001b[0m\u001b[0;34m\u001b[0m\u001b[0m\n\u001b[0m",
      "\u001b[0;31mModuleNotFoundError\u001b[0m: No module named 'WikiData'"
     ]
    }
   ],
   "source": [
    "import WikiData"
   ]
  },
  {
   "cell_type": "markdown",
   "metadata": {},
   "source": [
    "## *Need to install WikiDataIntegrator.....*##"
   ]
  },
  {
   "cell_type": "code",
   "execution_count": 1,
   "metadata": {},
   "outputs": [
    {
     "name": "stdout",
     "output_type": "stream",
     "text": [
      "/home/rogertu/WikiData\n"
     ]
    },
    {
     "name": "stderr",
     "output_type": "stream",
     "text": [
      "usage: obographs_DO.py [-h] [--local] json_path\n",
      "obographs_DO.py: error: the following arguments are required: json_path\n"
     ]
    },
    {
     "ename": "CalledProcessError",
     "evalue": "Command 'b'pwd\\npython3 scheduled-bots/scheduled_bots/ontology/obographs_DO.py\\n'' returned non-zero exit status 2.",
     "output_type": "error",
     "traceback": [
      "\u001b[0;31m---------------------------------------------------------------------------\u001b[0m",
      "\u001b[0;31mCalledProcessError\u001b[0m                        Traceback (most recent call last)",
      "\u001b[0;32m<ipython-input-1-e450c8975139>\u001b[0m in \u001b[0;36m<module>\u001b[0;34m\u001b[0m\n\u001b[0;32m----> 1\u001b[0;31m \u001b[0mget_ipython\u001b[0m\u001b[0;34m(\u001b[0m\u001b[0;34m)\u001b[0m\u001b[0;34m.\u001b[0m\u001b[0mrun_cell_magic\u001b[0m\u001b[0;34m(\u001b[0m\u001b[0;34m'bash'\u001b[0m\u001b[0;34m,\u001b[0m \u001b[0;34m''\u001b[0m\u001b[0;34m,\u001b[0m \u001b[0;34m'pwd\\npython3 scheduled-bots/scheduled_bots/ontology/obographs_DO.py\\n'\u001b[0m\u001b[0;34m)\u001b[0m\u001b[0;34m\u001b[0m\u001b[0;34m\u001b[0m\u001b[0m\n\u001b[0m",
      "\u001b[0;32m~/WikiData/WD_Test/lib/python3.6/site-packages/IPython/core/interactiveshell.py\u001b[0m in \u001b[0;36mrun_cell_magic\u001b[0;34m(self, magic_name, line, cell)\u001b[0m\n\u001b[1;32m   2345\u001b[0m                 \u001b[0mmagic_arg_s\u001b[0m \u001b[0;34m=\u001b[0m \u001b[0mself\u001b[0m\u001b[0;34m.\u001b[0m\u001b[0mvar_expand\u001b[0m\u001b[0;34m(\u001b[0m\u001b[0mline\u001b[0m\u001b[0;34m,\u001b[0m \u001b[0mstack_depth\u001b[0m\u001b[0;34m)\u001b[0m\u001b[0;34m\u001b[0m\u001b[0;34m\u001b[0m\u001b[0m\n\u001b[1;32m   2346\u001b[0m             \u001b[0;32mwith\u001b[0m \u001b[0mself\u001b[0m\u001b[0;34m.\u001b[0m\u001b[0mbuiltin_trap\u001b[0m\u001b[0;34m:\u001b[0m\u001b[0;34m\u001b[0m\u001b[0;34m\u001b[0m\u001b[0m\n\u001b[0;32m-> 2347\u001b[0;31m                 \u001b[0mresult\u001b[0m \u001b[0;34m=\u001b[0m \u001b[0mfn\u001b[0m\u001b[0;34m(\u001b[0m\u001b[0mmagic_arg_s\u001b[0m\u001b[0;34m,\u001b[0m \u001b[0mcell\u001b[0m\u001b[0;34m)\u001b[0m\u001b[0;34m\u001b[0m\u001b[0;34m\u001b[0m\u001b[0m\n\u001b[0m\u001b[1;32m   2348\u001b[0m             \u001b[0;32mreturn\u001b[0m \u001b[0mresult\u001b[0m\u001b[0;34m\u001b[0m\u001b[0;34m\u001b[0m\u001b[0m\n\u001b[1;32m   2349\u001b[0m \u001b[0;34m\u001b[0m\u001b[0m\n",
      "\u001b[0;32m~/WikiData/WD_Test/lib/python3.6/site-packages/IPython/core/magics/script.py\u001b[0m in \u001b[0;36mnamed_script_magic\u001b[0;34m(line, cell)\u001b[0m\n\u001b[1;32m    140\u001b[0m             \u001b[0;32melse\u001b[0m\u001b[0;34m:\u001b[0m\u001b[0;34m\u001b[0m\u001b[0;34m\u001b[0m\u001b[0m\n\u001b[1;32m    141\u001b[0m                 \u001b[0mline\u001b[0m \u001b[0;34m=\u001b[0m \u001b[0mscript\u001b[0m\u001b[0;34m\u001b[0m\u001b[0;34m\u001b[0m\u001b[0m\n\u001b[0;32m--> 142\u001b[0;31m             \u001b[0;32mreturn\u001b[0m \u001b[0mself\u001b[0m\u001b[0;34m.\u001b[0m\u001b[0mshebang\u001b[0m\u001b[0;34m(\u001b[0m\u001b[0mline\u001b[0m\u001b[0;34m,\u001b[0m \u001b[0mcell\u001b[0m\u001b[0;34m)\u001b[0m\u001b[0;34m\u001b[0m\u001b[0;34m\u001b[0m\u001b[0m\n\u001b[0m\u001b[1;32m    143\u001b[0m \u001b[0;34m\u001b[0m\u001b[0m\n\u001b[1;32m    144\u001b[0m         \u001b[0;31m# write a basic docstring:\u001b[0m\u001b[0;34m\u001b[0m\u001b[0;34m\u001b[0m\u001b[0;34m\u001b[0m\u001b[0m\n",
      "\u001b[0;32m</home/rogertu/WikiData/WD_Test/lib/python3.6/site-packages/decorator.py:decorator-gen-110>\u001b[0m in \u001b[0;36mshebang\u001b[0;34m(self, line, cell)\u001b[0m\n",
      "\u001b[0;32m~/WikiData/WD_Test/lib/python3.6/site-packages/IPython/core/magic.py\u001b[0m in \u001b[0;36m<lambda>\u001b[0;34m(f, *a, **k)\u001b[0m\n\u001b[1;32m    185\u001b[0m     \u001b[0;31m# but it's overkill for just that one bit of state.\u001b[0m\u001b[0;34m\u001b[0m\u001b[0;34m\u001b[0m\u001b[0;34m\u001b[0m\u001b[0m\n\u001b[1;32m    186\u001b[0m     \u001b[0;32mdef\u001b[0m \u001b[0mmagic_deco\u001b[0m\u001b[0;34m(\u001b[0m\u001b[0marg\u001b[0m\u001b[0;34m)\u001b[0m\u001b[0;34m:\u001b[0m\u001b[0;34m\u001b[0m\u001b[0;34m\u001b[0m\u001b[0m\n\u001b[0;32m--> 187\u001b[0;31m         \u001b[0mcall\u001b[0m \u001b[0;34m=\u001b[0m \u001b[0;32mlambda\u001b[0m \u001b[0mf\u001b[0m\u001b[0;34m,\u001b[0m \u001b[0;34m*\u001b[0m\u001b[0ma\u001b[0m\u001b[0;34m,\u001b[0m \u001b[0;34m**\u001b[0m\u001b[0mk\u001b[0m\u001b[0;34m:\u001b[0m \u001b[0mf\u001b[0m\u001b[0;34m(\u001b[0m\u001b[0;34m*\u001b[0m\u001b[0ma\u001b[0m\u001b[0;34m,\u001b[0m \u001b[0;34m**\u001b[0m\u001b[0mk\u001b[0m\u001b[0;34m)\u001b[0m\u001b[0;34m\u001b[0m\u001b[0;34m\u001b[0m\u001b[0m\n\u001b[0m\u001b[1;32m    188\u001b[0m \u001b[0;34m\u001b[0m\u001b[0m\n\u001b[1;32m    189\u001b[0m         \u001b[0;32mif\u001b[0m \u001b[0mcallable\u001b[0m\u001b[0;34m(\u001b[0m\u001b[0marg\u001b[0m\u001b[0;34m)\u001b[0m\u001b[0;34m:\u001b[0m\u001b[0;34m\u001b[0m\u001b[0;34m\u001b[0m\u001b[0m\n",
      "\u001b[0;32m~/WikiData/WD_Test/lib/python3.6/site-packages/IPython/core/magics/script.py\u001b[0m in \u001b[0;36mshebang\u001b[0;34m(self, line, cell)\u001b[0m\n\u001b[1;32m    243\u001b[0m             \u001b[0msys\u001b[0m\u001b[0;34m.\u001b[0m\u001b[0mstderr\u001b[0m\u001b[0;34m.\u001b[0m\u001b[0mflush\u001b[0m\u001b[0;34m(\u001b[0m\u001b[0;34m)\u001b[0m\u001b[0;34m\u001b[0m\u001b[0;34m\u001b[0m\u001b[0m\n\u001b[1;32m    244\u001b[0m         \u001b[0;32mif\u001b[0m \u001b[0margs\u001b[0m\u001b[0;34m.\u001b[0m\u001b[0mraise_error\u001b[0m \u001b[0;32mand\u001b[0m \u001b[0mp\u001b[0m\u001b[0;34m.\u001b[0m\u001b[0mreturncode\u001b[0m\u001b[0;34m!=\u001b[0m\u001b[0;36m0\u001b[0m\u001b[0;34m:\u001b[0m\u001b[0;34m\u001b[0m\u001b[0;34m\u001b[0m\u001b[0m\n\u001b[0;32m--> 245\u001b[0;31m             \u001b[0;32mraise\u001b[0m \u001b[0mCalledProcessError\u001b[0m\u001b[0;34m(\u001b[0m\u001b[0mp\u001b[0m\u001b[0;34m.\u001b[0m\u001b[0mreturncode\u001b[0m\u001b[0;34m,\u001b[0m \u001b[0mcell\u001b[0m\u001b[0;34m,\u001b[0m \u001b[0moutput\u001b[0m\u001b[0;34m=\u001b[0m\u001b[0mout\u001b[0m\u001b[0;34m,\u001b[0m \u001b[0mstderr\u001b[0m\u001b[0;34m=\u001b[0m\u001b[0merr\u001b[0m\u001b[0;34m)\u001b[0m\u001b[0;34m\u001b[0m\u001b[0;34m\u001b[0m\u001b[0m\n\u001b[0m\u001b[1;32m    246\u001b[0m \u001b[0;34m\u001b[0m\u001b[0m\n\u001b[1;32m    247\u001b[0m     \u001b[0;32mdef\u001b[0m \u001b[0m_run_script\u001b[0m\u001b[0;34m(\u001b[0m\u001b[0mself\u001b[0m\u001b[0;34m,\u001b[0m \u001b[0mp\u001b[0m\u001b[0;34m,\u001b[0m \u001b[0mcell\u001b[0m\u001b[0;34m,\u001b[0m \u001b[0mto_close\u001b[0m\u001b[0;34m)\u001b[0m\u001b[0;34m:\u001b[0m\u001b[0;34m\u001b[0m\u001b[0;34m\u001b[0m\u001b[0m\n",
      "\u001b[0;31mCalledProcessError\u001b[0m: Command 'b'pwd\\npython3 scheduled-bots/scheduled_bots/ontology/obographs_DO.py\\n'' returned non-zero exit status 2."
     ]
    }
   ],
   "source": [
    "%%bash\n",
    "pwd\n",
    "python3 scheduled-bots/scheduled_bots/ontology/obographs_DO.py"
   ]
  },
  {
   "cell_type": "markdown",
   "metadata": {},
   "source": [
    "## *Add JSON path* ##"
   ]
  },
  {
   "cell_type": "code",
   "execution_count": 2,
   "metadata": {},
   "outputs": [
    {
     "name": "stdout",
     "output_type": "stream",
     "text": [
      "/home/rogertu/WikiData\n",
      "https://www.wikidata.org/w/api.php\n",
      "Successfully logged in as Torogertu\n",
      "Done running obographs_DO\n"
     ]
    }
   ],
   "source": [
    "%%bash\n",
    "pwd\n",
    "python3 scheduled-bots/scheduled_bots/ontology/obographs_DO.py ."
   ]
  },
  {
   "cell_type": "markdown",
   "metadata": {},
   "source": [
    "## *Changed JSON file to Shortened JSON file* ##"
   ]
  },
  {
   "cell_type": "code",
   "execution_count": 1,
   "metadata": {},
   "outputs": [
    {
     "name": "stdout",
     "output_type": "stream",
     "text": [
      "/home/rogertu/WikiData\n",
      "https://www.wikidata.org/w/api.php\n",
      "Successfully logged in as Torogertu\n",
      "Done running obographs_DO\n"
     ]
    }
   ],
   "source": [
    "%%bash\n",
    "pwd\n",
    "python3 scheduled-bots/scheduled_bots/ontology/obographs_DO.py ."
   ]
  },
  {
   "cell_type": "markdown",
   "metadata": {},
   "source": [
    "## *Uncomment last two lines and run...* ##"
   ]
  },
  {
   "cell_type": "code",
   "execution_count": 3,
   "metadata": {},
   "outputs": [
    {
     "name": "stdout",
     "output_type": "stream",
     "text": [
      "/home/rogertu/WikiData\n",
      "https://www.wikidata.org/w/api.php\n",
      "Successfully logged in as Torogertu\n"
     ]
    },
    {
     "name": "stderr",
     "output_type": "stream",
     "text": [
      "Traceback (most recent call last):\n",
      "  File \"scheduled-bots/scheduled_bots/ontology/obographs_DO.py\", line 94, in <module>\n",
      "    g = DOGraph(args.json_path, mediawiki_api_url=mediawiki_api_url, sparql_endpoint_url=sparql_endpoint_url)\n",
      "  File \"/home/rogertu/WikiData/scheduled-bots/scheduled_bots/ontology/obographs.py\", line 327, in __init__\n",
      "    self.load_graph()\n",
      "  File \"/home/rogertu/WikiData/scheduled-bots/scheduled_bots/ontology/obographs.py\", line 344, in load_graph\n",
      "    d = json.load(f)\n",
      "  File \"/usr/lib/python3.6/json/__init__.py\", line 299, in load\n",
      "    parse_constant=parse_constant, object_pairs_hook=object_pairs_hook, **kw)\n",
      "  File \"/usr/lib/python3.6/json/__init__.py\", line 354, in loads\n",
      "    return _default_decoder.decode(s)\n",
      "  File \"/usr/lib/python3.6/json/decoder.py\", line 339, in decode\n",
      "    obj, end = self.raw_decode(s, idx=_w(s, 0).end())\n",
      "  File \"/usr/lib/python3.6/json/decoder.py\", line 355, in raw_decode\n",
      "    obj, end = self.scan_once(s, idx)\n",
      "json.decoder.JSONDecodeError: Expecting property name enclosed in double quotes: line 4 column 8 (char 44)\n"
     ]
    },
    {
     "ename": "CalledProcessError",
     "evalue": "Command 'b'pwd\\npython3 scheduled-bots/scheduled_bots/ontology/obographs_DO.py ./sampleDOID.json\\n'' returned non-zero exit status 1.",
     "output_type": "error",
     "traceback": [
      "\u001b[0;31m---------------------------------------------------------------------------\u001b[0m",
      "\u001b[0;31mCalledProcessError\u001b[0m                        Traceback (most recent call last)",
      "\u001b[0;32m<ipython-input-3-bd4e3ca00836>\u001b[0m in \u001b[0;36m<module>\u001b[0;34m\u001b[0m\n\u001b[0;32m----> 1\u001b[0;31m \u001b[0mget_ipython\u001b[0m\u001b[0;34m(\u001b[0m\u001b[0;34m)\u001b[0m\u001b[0;34m.\u001b[0m\u001b[0mrun_cell_magic\u001b[0m\u001b[0;34m(\u001b[0m\u001b[0;34m'bash'\u001b[0m\u001b[0;34m,\u001b[0m \u001b[0;34m''\u001b[0m\u001b[0;34m,\u001b[0m \u001b[0;34m'pwd\\npython3 scheduled-bots/scheduled_bots/ontology/obographs_DO.py ./sampleDOID.json\\n'\u001b[0m\u001b[0;34m)\u001b[0m\u001b[0;34m\u001b[0m\u001b[0;34m\u001b[0m\u001b[0m\n\u001b[0m",
      "\u001b[0;32m~/WikiData/WD_Test/lib/python3.6/site-packages/IPython/core/interactiveshell.py\u001b[0m in \u001b[0;36mrun_cell_magic\u001b[0;34m(self, magic_name, line, cell)\u001b[0m\n\u001b[1;32m   2345\u001b[0m                 \u001b[0mmagic_arg_s\u001b[0m \u001b[0;34m=\u001b[0m \u001b[0mself\u001b[0m\u001b[0;34m.\u001b[0m\u001b[0mvar_expand\u001b[0m\u001b[0;34m(\u001b[0m\u001b[0mline\u001b[0m\u001b[0;34m,\u001b[0m \u001b[0mstack_depth\u001b[0m\u001b[0;34m)\u001b[0m\u001b[0;34m\u001b[0m\u001b[0;34m\u001b[0m\u001b[0m\n\u001b[1;32m   2346\u001b[0m             \u001b[0;32mwith\u001b[0m \u001b[0mself\u001b[0m\u001b[0;34m.\u001b[0m\u001b[0mbuiltin_trap\u001b[0m\u001b[0;34m:\u001b[0m\u001b[0;34m\u001b[0m\u001b[0;34m\u001b[0m\u001b[0m\n\u001b[0;32m-> 2347\u001b[0;31m                 \u001b[0mresult\u001b[0m \u001b[0;34m=\u001b[0m \u001b[0mfn\u001b[0m\u001b[0;34m(\u001b[0m\u001b[0mmagic_arg_s\u001b[0m\u001b[0;34m,\u001b[0m \u001b[0mcell\u001b[0m\u001b[0;34m)\u001b[0m\u001b[0;34m\u001b[0m\u001b[0;34m\u001b[0m\u001b[0m\n\u001b[0m\u001b[1;32m   2348\u001b[0m             \u001b[0;32mreturn\u001b[0m \u001b[0mresult\u001b[0m\u001b[0;34m\u001b[0m\u001b[0;34m\u001b[0m\u001b[0m\n\u001b[1;32m   2349\u001b[0m \u001b[0;34m\u001b[0m\u001b[0m\n",
      "\u001b[0;32m~/WikiData/WD_Test/lib/python3.6/site-packages/IPython/core/magics/script.py\u001b[0m in \u001b[0;36mnamed_script_magic\u001b[0;34m(line, cell)\u001b[0m\n\u001b[1;32m    140\u001b[0m             \u001b[0;32melse\u001b[0m\u001b[0;34m:\u001b[0m\u001b[0;34m\u001b[0m\u001b[0;34m\u001b[0m\u001b[0m\n\u001b[1;32m    141\u001b[0m                 \u001b[0mline\u001b[0m \u001b[0;34m=\u001b[0m \u001b[0mscript\u001b[0m\u001b[0;34m\u001b[0m\u001b[0;34m\u001b[0m\u001b[0m\n\u001b[0;32m--> 142\u001b[0;31m             \u001b[0;32mreturn\u001b[0m \u001b[0mself\u001b[0m\u001b[0;34m.\u001b[0m\u001b[0mshebang\u001b[0m\u001b[0;34m(\u001b[0m\u001b[0mline\u001b[0m\u001b[0;34m,\u001b[0m \u001b[0mcell\u001b[0m\u001b[0;34m)\u001b[0m\u001b[0;34m\u001b[0m\u001b[0;34m\u001b[0m\u001b[0m\n\u001b[0m\u001b[1;32m    143\u001b[0m \u001b[0;34m\u001b[0m\u001b[0m\n\u001b[1;32m    144\u001b[0m         \u001b[0;31m# write a basic docstring:\u001b[0m\u001b[0;34m\u001b[0m\u001b[0;34m\u001b[0m\u001b[0;34m\u001b[0m\u001b[0m\n",
      "\u001b[0;32m</home/rogertu/WikiData/WD_Test/lib/python3.6/site-packages/decorator.py:decorator-gen-110>\u001b[0m in \u001b[0;36mshebang\u001b[0;34m(self, line, cell)\u001b[0m\n",
      "\u001b[0;32m~/WikiData/WD_Test/lib/python3.6/site-packages/IPython/core/magic.py\u001b[0m in \u001b[0;36m<lambda>\u001b[0;34m(f, *a, **k)\u001b[0m\n\u001b[1;32m    185\u001b[0m     \u001b[0;31m# but it's overkill for just that one bit of state.\u001b[0m\u001b[0;34m\u001b[0m\u001b[0;34m\u001b[0m\u001b[0;34m\u001b[0m\u001b[0m\n\u001b[1;32m    186\u001b[0m     \u001b[0;32mdef\u001b[0m \u001b[0mmagic_deco\u001b[0m\u001b[0;34m(\u001b[0m\u001b[0marg\u001b[0m\u001b[0;34m)\u001b[0m\u001b[0;34m:\u001b[0m\u001b[0;34m\u001b[0m\u001b[0;34m\u001b[0m\u001b[0m\n\u001b[0;32m--> 187\u001b[0;31m         \u001b[0mcall\u001b[0m \u001b[0;34m=\u001b[0m \u001b[0;32mlambda\u001b[0m \u001b[0mf\u001b[0m\u001b[0;34m,\u001b[0m \u001b[0;34m*\u001b[0m\u001b[0ma\u001b[0m\u001b[0;34m,\u001b[0m \u001b[0;34m**\u001b[0m\u001b[0mk\u001b[0m\u001b[0;34m:\u001b[0m \u001b[0mf\u001b[0m\u001b[0;34m(\u001b[0m\u001b[0;34m*\u001b[0m\u001b[0ma\u001b[0m\u001b[0;34m,\u001b[0m \u001b[0;34m**\u001b[0m\u001b[0mk\u001b[0m\u001b[0;34m)\u001b[0m\u001b[0;34m\u001b[0m\u001b[0;34m\u001b[0m\u001b[0m\n\u001b[0m\u001b[1;32m    188\u001b[0m \u001b[0;34m\u001b[0m\u001b[0m\n\u001b[1;32m    189\u001b[0m         \u001b[0;32mif\u001b[0m \u001b[0mcallable\u001b[0m\u001b[0;34m(\u001b[0m\u001b[0marg\u001b[0m\u001b[0;34m)\u001b[0m\u001b[0;34m:\u001b[0m\u001b[0;34m\u001b[0m\u001b[0;34m\u001b[0m\u001b[0m\n",
      "\u001b[0;32m~/WikiData/WD_Test/lib/python3.6/site-packages/IPython/core/magics/script.py\u001b[0m in \u001b[0;36mshebang\u001b[0;34m(self, line, cell)\u001b[0m\n\u001b[1;32m    243\u001b[0m             \u001b[0msys\u001b[0m\u001b[0;34m.\u001b[0m\u001b[0mstderr\u001b[0m\u001b[0;34m.\u001b[0m\u001b[0mflush\u001b[0m\u001b[0;34m(\u001b[0m\u001b[0;34m)\u001b[0m\u001b[0;34m\u001b[0m\u001b[0;34m\u001b[0m\u001b[0m\n\u001b[1;32m    244\u001b[0m         \u001b[0;32mif\u001b[0m \u001b[0margs\u001b[0m\u001b[0;34m.\u001b[0m\u001b[0mraise_error\u001b[0m \u001b[0;32mand\u001b[0m \u001b[0mp\u001b[0m\u001b[0;34m.\u001b[0m\u001b[0mreturncode\u001b[0m\u001b[0;34m!=\u001b[0m\u001b[0;36m0\u001b[0m\u001b[0;34m:\u001b[0m\u001b[0;34m\u001b[0m\u001b[0;34m\u001b[0m\u001b[0m\n\u001b[0;32m--> 245\u001b[0;31m             \u001b[0;32mraise\u001b[0m \u001b[0mCalledProcessError\u001b[0m\u001b[0;34m(\u001b[0m\u001b[0mp\u001b[0m\u001b[0;34m.\u001b[0m\u001b[0mreturncode\u001b[0m\u001b[0;34m,\u001b[0m \u001b[0mcell\u001b[0m\u001b[0;34m,\u001b[0m \u001b[0moutput\u001b[0m\u001b[0;34m=\u001b[0m\u001b[0mout\u001b[0m\u001b[0;34m,\u001b[0m \u001b[0mstderr\u001b[0m\u001b[0;34m=\u001b[0m\u001b[0merr\u001b[0m\u001b[0;34m)\u001b[0m\u001b[0;34m\u001b[0m\u001b[0;34m\u001b[0m\u001b[0m\n\u001b[0m\u001b[1;32m    246\u001b[0m \u001b[0;34m\u001b[0m\u001b[0m\n\u001b[1;32m    247\u001b[0m     \u001b[0;32mdef\u001b[0m \u001b[0m_run_script\u001b[0m\u001b[0;34m(\u001b[0m\u001b[0mself\u001b[0m\u001b[0;34m,\u001b[0m \u001b[0mp\u001b[0m\u001b[0;34m,\u001b[0m \u001b[0mcell\u001b[0m\u001b[0;34m,\u001b[0m \u001b[0mto_close\u001b[0m\u001b[0;34m)\u001b[0m\u001b[0;34m:\u001b[0m\u001b[0;34m\u001b[0m\u001b[0;34m\u001b[0m\u001b[0m\n",
      "\u001b[0;31mCalledProcessError\u001b[0m: Command 'b'pwd\\npython3 scheduled-bots/scheduled_bots/ontology/obographs_DO.py ./sampleDOID.json\\n'' returned non-zero exit status 1."
     ]
    }
   ],
   "source": [
    "%%bash\n",
    "pwd\n",
    "python3 scheduled-bots/scheduled_bots/ontology/obographs_DO.py ./sampleDOID.json"
   ]
  },
  {
   "cell_type": "markdown",
   "metadata": {},
   "source": [
    "## *Seems that self-selected `.json` file doesn't work* ##\n",
    "\n",
    "Generated a new `.json` file called `doidtest.json`. This file only has 2 entries.  We deleted all nodes and edges and only added these entries in nodes and edges for (DOID_13146) RO_0001025 and edges for (DOID_0060002) RO_0002200.  "
   ]
  },
  {
   "cell_type": "code",
   "execution_count": 2,
   "metadata": {},
   "outputs": [
    {
     "name": "stdout",
     "output_type": "stream",
     "text": [
      "/home/rogertu/WikiData\n",
      "https://www.wikidata.org/w/api.php\n",
      "Successfully logged in as Torogertu\n",
      "P699 not found in fastrun\n",
      "P2888 not found in fastrun\n",
      "P2892 not found in fastrun\n",
      "P1748 not found in fastrun\n",
      "P1692 not found in fastrun\n",
      "P4229 not found in fastrun\n",
      "skipping 641 edges where the subject is a node that is being skipped\n",
      "loading: P1554\n",
      "P927 not found in fastrun\n",
      "the following should be checked and deleted: {}\n",
      "{'P4229', 'P927', 'P1692', 'P699', 'P1748', 'P2892'}\n",
      "P4229 not found in fastrun\n",
      "P927 not found in fastrun\n",
      "P1692 not found in fastrun\n",
      "P699 not found in fastrun\n",
      "P1748 not found in fastrun\n",
      "P2892 not found in fastrun\n",
      "-----\n",
      "Q5398631\n",
      "[('P699', 'DOID:13146'), ('P1748', 'C27027'), ('P2892', 'C0239295')]\n",
      "[]\n",
      "Done running obographs_DO\n"
     ]
    },
    {
     "name": "stderr",
     "output_type": "stream",
     "text": [
      "\r",
      "creating items:   0%|          | 0/1 [00:00<?, ?it/s]\r",
      "creating items: 100%|██████████| 1/1 [00:48<00:00, 48.61s/it]\n",
      "\r",
      "creating edges:   0%|          | 0/1 [00:00<?, ?it/s]\r",
      "creating edges: 100%|██████████| 1/1 [00:02<00:00,  2.19s/it]\n",
      "\r",
      "Waiting for endpoint update:  / 2019-03-27 22:40:11.188542 : 0it [00:00, ?it/s]\r",
      "Waiting for endpoint update: 2019-03-27 22:39:30 / 2019-03-27 22:40:11.188542 : : 0it [00:00, ?it/s]\r",
      "Waiting for endpoint update: 2019-03-27 22:39:30 / 2019-03-27 22:40:11.188542 : : 1it [00:00,  7.52it/s]\r",
      "Waiting for endpoint update: 2019-03-27 22:40:00 / 2019-03-27 22:40:11.188542 : : 1it [00:30,  7.52it/s]\r",
      "Waiting for endpoint update: 2019-03-27 22:40:00 / 2019-03-27 22:40:11.188542 : : 2it [00:30,  9.16s/it]\r",
      "Waiting for endpoint update: 2019-03-27 22:40:38 / 2019-03-27 22:40:11.188542 : : 2it [01:00,  9.16s/it]\r",
      "Waiting for endpoint update: 2019-03-27 22:40:38 / 2019-03-27 22:40:11.188542 : : 3it [01:00, 15.48s/it]\n"
     ]
    }
   ],
   "source": [
    "%%bash\n",
    "pwd\n",
    "python3 scheduled-bots/scheduled_bots/ontology/obographs_DO.py ./doidtest.json"
   ]
  },
  {
   "cell_type": "markdown",
   "metadata": {},
   "source": [
    "## *No edits were made to DOID_13146 (esophageal candidiasis)* ##\n",
    "Nothing was removed, nothing was added. For DOID_0060002, because there was no node entry, the program couldn't find a 'subject' to add disease relationships to.\n",
    "\n",
    "\n",
    "On WikiData the corresponding property ID's are...\n",
    "> P699 - Disease Ontology ID <br>\n",
    "P2888 - exact match <br>\n",
    "P2892 - UMLS CUI <br>\n",
    "P1748 - NCI Thesaurus ID <br>\n",
    "P1692 - ICD-9-CM (identifier in the ICD adaption assigning diagnostic and procedure codes <br>\n",
    "P4229 - ICD-10-CM (classification of medical condition) <br>\n",
    "\n",
    "Is the missing P-ID's in the entry because of missing 'node' for DOID_0060002?\n",
    "\n",
    "\n",
    "\n",
    "On WikiData the corresponding property ID's are...\n",
    "> P699 - Disease Ontology ID <br>\n",
    "**P927 - anatomical location** <br>\n",
    "P2892 - UMLS CUI <br>\n",
    "P1748 - NCI Thesaurus ID <br>\n",
    "P1692 - ICD-9-CM (identifier in the ICD adaption assigning diagnostic and procedure codes <br>\n",
    "P4229 - ICD-10-CM (classification of medical condition) <br>\n",
    "\n",
    "Where anatomical location was the only property that wasn't found in `fast run`\n",
    "\n",
    "> `Q5398631\n",
    "[('P699', 'DOID:13146'), ('P1748', 'C27027'), ('P2892', 'C0239295')]\n",
    "[]`\n",
    "\n",
    "Where (Disease ontology ID, esophageal candidiasis), (NCI Metathesaurus, the Code), (CUI ID, the Code)]. Both NCI Metathesaursus and CUI ID point to the same item. (makes sense cause its a synonym)."
   ]
  },
  {
   "cell_type": "markdown",
   "metadata": {},
   "source": [
    "## *What happens when we include the missing node (DOID_0060002)* ##\n"
   ]
  },
  {
   "cell_type": "code",
   "execution_count": 4,
   "metadata": {},
   "outputs": [
    {
     "name": "stdout",
     "output_type": "stream",
     "text": [
      "https://www.wikidata.org/w/api.php\n",
      "Successfully logged in as Torogertu\n",
      "P699 not found in fastrun\n",
      "P2888 not found in fastrun\n",
      "P1692 not found in fastrun\n",
      "P1748 not found in fastrun\n",
      "P4229 not found in fastrun\n",
      "P2892 not found in fastrun\n",
      "skipping 641 edges where the subject is a node that is being skipped\n",
      "loading: P3841\n",
      "None;None;None;no qids found for: http://purl.obolibrary.org/obo/HP_0004431;None\n",
      "loading: P1554\n",
      "P927 not found in fastrun\n",
      "the following should be checked and deleted: {}\n",
      "{'P6532', 'P927', 'P4229', 'P2892', 'P1692', 'P1748', 'P699'}\n",
      "P6532 not found in fastrun\n",
      "P927 not found in fastrun\n",
      "P4229 not found in fastrun\n",
      "P2892 not found in fastrun\n",
      "P1692 not found in fastrun\n",
      "P1748 not found in fastrun\n",
      "P699 not found in fastrun\n",
      "-----\n",
      "Q5398631\n",
      "[('P2892', 'C0239295'), ('P1748', 'C27027'), ('P699', 'DOID:13146')]\n",
      "[]\n",
      "Done running obographs_DO\n"
     ]
    },
    {
     "name": "stderr",
     "output_type": "stream",
     "text": [
      "\r",
      "creating items:   0%|          | 0/2 [00:00<?, ?it/s]\r",
      "creating items:  50%|█████     | 1/2 [00:26<00:26, 26.65s/it]\r",
      "creating items: 100%|██████████| 2/2 [00:42<00:00, 23.36s/it]\n",
      "\r",
      "creating edges:   0%|          | 0/2 [00:00<?, ?it/s]\r",
      "creating edges:  50%|█████     | 1/2 [00:00<00:00,  3.67it/s]\r",
      "creating edges: 100%|██████████| 2/2 [00:02<00:00,  1.26it/s]\n",
      "\r",
      "Waiting for endpoint update:  / 2019-03-27 23:25:28.800880 : 0it [00:00, ?it/s]\r",
      "Waiting for endpoint update: 2019-03-27 23:24:53 / 2019-03-27 23:25:28.800880 : : 0it [00:00, ?it/s]\r",
      "Waiting for endpoint update: 2019-03-27 23:24:53 / 2019-03-27 23:25:28.800880 : : 1it [00:00,  4.30it/s]\r",
      "Waiting for endpoint update: 2019-03-27 23:24:53 / 2019-03-27 23:25:28.800880 : : 1it [00:30,  4.30it/s]\r",
      "Waiting for endpoint update: 2019-03-27 23:24:53 / 2019-03-27 23:25:28.800880 : : 2it [00:30,  9.19s/it]\r",
      "Waiting for endpoint update: 2019-03-27 23:25:55 / 2019-03-27 23:25:28.800880 : : 2it [01:00,  9.19s/it]\r",
      "Waiting for endpoint update: 2019-03-27 23:25:55 / 2019-03-27 23:25:28.800880 : : 3it [01:00, 15.49s/it]\n"
     ]
    }
   ],
   "source": [
    "%%bash\n",
    "python3 scheduled-bots/scheduled_bots/ontology/obographs_DO.py ./doidtest2.json"
   ]
  },
  {
   "cell_type": "markdown",
   "metadata": {},
   "source": [
    "## *No decrease in output* ##\n",
    "\n",
    "New `P3841`, `None;None;None; no qids found for http://purl.obolibrary.org/obo/HP_0004431`, and `P6532`\n",
    "\n",
    "> P3841 - Human Phenotype Ontology ID <br>\n",
    "P6532 - has phenotype <br>\n",
    "hyperlink - corresponds to \"Complement deficiency - an immunodeficiency defined by the absent or suboptimal functioning of one of the complement system proteins.\"\n",
    "\n",
    "However, a QID definitely exists on WikiData `https://www.wikidata.org/wiki/Q5156409`.  The purl link on WikiData refers to DOID_626.  Both refer to Complement deficiency, could be a misannotation as HP points to Human phenotype ontology and DO points to Human Disease ontology.\n",
    "\n",
    "No Q18553584 output in this and previous case, and no edit to the WikiData page."
   ]
  },
  {
   "cell_type": "markdown",
   "metadata": {},
   "source": [
    "## *Checked to see if Props were in the __init__* ##\n",
    "\n",
    "Missing elements were found in `__init__.py`."
   ]
  },
  {
   "cell_type": "code",
   "execution_count": 26,
   "metadata": {},
   "outputs": [
    {
     "name": "stdout",
     "output_type": "stream",
     "text": [
      "found P6532 in __init__.py\n",
      "found P927 in __init__.py\n",
      "found P4229 in __init__.py\n",
      "found P2892 in __init__.py\n",
      "found P1692 in __init__.py\n",
      "found P1748 in __init__.py\n",
      "found P699 in __init__.py\n"
     ]
    }
   ],
   "source": [
    "%%bash\n",
    "cd /home/rogertu/WikiData/scheduled-bots/scheduled_bots/\n",
    "items=('P6532 P927 P4229 P2892 P1692 P1748 P699')\n",
    "\n",
    "for element in $items; do\n",
    "    if grep -q $element __init__.py; then\n",
    "        echo \"found $element in __init__.py\"\n",
    "    else\n",
    "        echo \"missing $element\"\n",
    "    fi\n",
    "done"
   ]
  },
  {
   "cell_type": "markdown",
   "metadata": {},
   "source": [
    "## *Checked where `fastrun` is found* ##\n",
    "Is `fastrun` something editable in my directory or is it a file in WDI"
   ]
  },
  {
   "cell_type": "code",
   "execution_count": 28,
   "metadata": {},
   "outputs": [
    {
     "name": "stdout",
     "output_type": "stream",
     "text": [
      "Binary file ./__pycache__/obographs.cpython-35.pyc matches\n",
      "Binary file ./__pycache__/obographs.cpython-36.pyc matches\n",
      "./obo_importer.py:    parser.add_argument('--fastrun', dest='fastrun', action='store_true')\n",
      "./obo_importer.py:    parser.add_argument('--no-fastrun', dest='fastrun', action='store_false')\n",
      "./obo_importer.py:    parser.set_defaults(fastrun=True)\n",
      "./obo_importer.py:    fast_run = args.fastrun\n",
      "./obographs.py:    def _get_fastrun_container(self):\n",
      "./obographs.py:        # get a fastrun container\n",
      "./obographs.py:            print(\"fastrun container not found. not removing deprecated statements\")\n",
      "./obographs.py:        frc = self._get_fastrun_container()\n",
      "./obographs.py:        frc = self._get_fastrun_container()\n"
     ]
    }
   ],
   "source": [
    "%%bash\n",
    "cd /home/rogertu/WikiData/scheduled-bots/scheduled_bots/ontology/\n",
    "grep -r \"fastrun\" ./"
   ]
  },
  {
   "cell_type": "markdown",
   "metadata": {},
   "source": [
    "All fingers point to WDI core in wikidataintegrator.  However, didn't have time to figure out what the issue was.  Based on this testing, Andrew and I want to move forward with a different test case for `has phenotype` for test case complement deficiency.  Next steps are to build a new test case."
   ]
  },
  {
   "cell_type": "code",
   "execution_count": null,
   "metadata": {},
   "outputs": [],
   "source": []
  }
 ],
 "metadata": {
  "kernelspec": {
   "display_name": "Python 3",
   "language": "python",
   "name": "python3"
  },
  "language_info": {
   "codemirror_mode": {
    "name": "ipython",
    "version": 3
   },
   "file_extension": ".py",
   "mimetype": "text/x-python",
   "name": "python",
   "nbconvert_exporter": "python",
   "pygments_lexer": "ipython3",
   "version": "3.6.7"
  }
 },
 "nbformat": 4,
 "nbformat_minor": 2
}

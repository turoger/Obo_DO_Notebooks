{
 "cells": [
  {
   "cell_type": "markdown",
   "metadata": {},
   "source": [
    "## Wrote a file `doidtest3.2.json` with a new test case ##\n",
    "The goal of this notebook is to see if `has phenotype` can be added to wikidata. Currently it seems that the bot runs, but no additional phenotypes are being added to WikiData.  I suspect that its because the QID's are \"missing\".  I will create a new testcase than the previous testcase, then add back the wikidata QID url and see if that remedies the situation. <br>\n",
    "\n",
    ">doidtest3_0.json - is a copy of doidtest2.json <br>\n",
    "doidtest3_1.json - deletes the two test cases in doidtest3.json<br>\n",
    "doidtest3_2.json - Added Dubowitz syndrome (DOID_14796, RO_0002200).<br>\n",
    "doidtest3_3.json - Added wikidata link to xref in node for HP_0001510. <br>\n",
    "doidtest3_4.json - Changed wikidata link to xref in node for HP_001510 to a truncated link."
   ]
  },
  {
   "cell_type": "code",
   "execution_count": 1,
   "metadata": {},
   "outputs": [
    {
     "name": "stdout",
     "output_type": "stream",
     "text": [
      "/home/rogertu/WikiData\n"
     ]
    }
   ],
   "source": [
    "%%bash\n",
    "pwd"
   ]
  },
  {
   "cell_type": "code",
   "execution_count": 1,
   "metadata": {},
   "outputs": [
    {
     "name": "stdout",
     "output_type": "stream",
     "text": [
      "doidtest1.json\n",
      "doidtest2.json\n",
      "doidtest3_0.json\n",
      "doidtest3_1.json\n",
      "doidtest3_2.json\n",
      "doidtest3_3.json\n",
      "doidtest3_4.json\n",
      "readMe.txt\n"
     ]
    }
   ],
   "source": [
    "%%bash\n",
    "cd /home/rogertu/WikiData/doidtest/\n",
    "ls"
   ]
  },
  {
   "cell_type": "markdown",
   "metadata": {},
   "source": [
    "### Test doidtest3_1.json to see if items in file were properly deleted. ###"
   ]
  },
  {
   "cell_type": "code",
   "execution_count": 7,
   "metadata": {},
   "outputs": [
    {
     "name": "stdout",
     "output_type": "stream",
     "text": [
      "https://www.wikidata.org/w/api.php\n",
      "Successfully logged in as Torogertu\n",
      "P699 not found in fastrun\n",
      "P2888 not found in fastrun\n",
      "P1748 not found in fastrun\n",
      "P1692 not found in fastrun\n",
      "P2892 not found in fastrun\n",
      "P4229 not found in fastrun\n",
      "skipping 641 edges where the subject is a node that is being skipped\n",
      "loading: P1554\n",
      "P927 not found in fastrun\n",
      "the following should be checked and deleted: {}\n",
      "{'P699', 'P4229', 'P1748', 'P2892', 'P1692', 'P927'}\n",
      "P699 not found in fastrun\n",
      "P4229 not found in fastrun\n",
      "P1748 not found in fastrun\n",
      "P2892 not found in fastrun\n",
      "P1692 not found in fastrun\n",
      "P927 not found in fastrun\n",
      "-----\n",
      "Q5398631\n",
      "[('P699', 'DOID:13146'), ('P1748', 'C27027'), ('P2892', 'C0239295')]\n",
      "[]\n",
      "Done running obographs_DO\n"
     ]
    },
    {
     "name": "stderr",
     "output_type": "stream",
     "text": [
      "\r",
      "creating items:   0%|          | 0/1 [00:00<?, ?it/s]\r",
      "creating items: 100%|██████████| 1/1 [00:26<00:00, 26.81s/it]\n",
      "\r",
      "creating edges:   0%|          | 0/1 [00:00<?, ?it/s]\r",
      "creating edges: 100%|██████████| 1/1 [00:01<00:00,  1.49s/it]\n",
      "\r",
      "Waiting for endpoint update:  / 2019-03-29 01:25:08.991508 : 0it [00:00, ?it/s]\r",
      "Waiting for endpoint update: 2019-03-29 01:23:41 / 2019-03-29 01:25:08.991508 : : 0it [00:00, ?it/s]\r",
      "Waiting for endpoint update: 2019-03-29 01:25:01 / 2019-03-29 01:25:08.991508 : : 1it [00:30, 30.23s/it]\r",
      "Waiting for endpoint update: 2019-03-29 01:25:01 / 2019-03-29 01:25:08.991508 : : 2it [00:30, 15.12s/it]\r",
      "Waiting for endpoint update: 2019-03-29 01:25:32 / 2019-03-29 01:25:08.991508 : : 2it [01:00, 15.12s/it]\r",
      "Waiting for endpoint update: 2019-03-29 01:25:32 / 2019-03-29 01:25:08.991508 : : 3it [01:00, 19.63s/it]\n"
     ]
    }
   ],
   "source": [
    "%%bash\n",
    "python3 scheduled-bots/scheduled_bots/ontology/obographs_DO.py ./doidtest/doidtest3_1.json"
   ]
  },
  {
   "cell_type": "markdown",
   "metadata": {},
   "source": [
    "### Test doidtest3_2.json to see if items in file were properly added. ###"
   ]
  },
  {
   "cell_type": "code",
   "execution_count": 8,
   "metadata": {},
   "outputs": [
    {
     "name": "stdout",
     "output_type": "stream",
     "text": [
      "https://www.wikidata.org/w/api.php\n",
      "Successfully logged in as Torogertu\n",
      "P699 not found in fastrun\n",
      "P2888 not found in fastrun\n",
      "P1748 not found in fastrun\n",
      "P1692 not found in fastrun\n",
      "P4229 not found in fastrun\n",
      "P2892 not found in fastrun\n",
      "P4317 not found in fastrun\n",
      "P492 not found in fastrun\n",
      "P486 not found in fastrun\n",
      "skipping 641 edges where the subject is a node that is being skipped\n",
      "loading: P1554\n",
      "P927 not found in fastrun\n",
      "loading: P3841\n",
      "None;None;None;no qids found for: http://purl.obolibrary.org/obo/HP_0001510;None\n",
      "the following should be checked and deleted: {}\n",
      "{'P6532', 'P699', 'P2892', 'P927', 'P492', 'P1692', 'P4229', 'P1748', 'P486', 'P4317'}\n",
      "P6532 not found in fastrun\n",
      "P699 not found in fastrun\n",
      "P2892 not found in fastrun\n",
      "P927 not found in fastrun\n",
      "P492 not found in fastrun\n",
      "P1692 not found in fastrun\n",
      "P4229 not found in fastrun\n",
      "P1748 not found in fastrun\n",
      "P486 not found in fastrun\n",
      "P4317 not found in fastrun\n",
      "-----\n",
      "Q5398631\n",
      "[('P699', 'DOID:13146'), ('P2892', 'C0239295'), ('P1748', 'C27027')]\n",
      "[]\n",
      "-----\n",
      "Q574741\n",
      "[('P699', 'DOID:14796'), ('P2892', 'C0175691'), ('P492', '223370'), ('P1748', 'C125591'), ('P486', 'C535718')]\n",
      "[]\n",
      "Done running obographs_DO\n"
     ]
    },
    {
     "name": "stderr",
     "output_type": "stream",
     "text": [
      "\r",
      "creating items:   0%|          | 0/2 [00:00<?, ?it/s]\r",
      "creating items:  50%|█████     | 1/2 [00:13<00:13, 13.60s/it]\r",
      "creating items: 100%|██████████| 2/2 [00:22<00:00, 12.19s/it]\n",
      "\r",
      "creating edges:   0%|          | 0/2 [00:00<?, ?it/s]\r",
      "creating edges:  50%|█████     | 1/2 [00:00<00:00,  1.16it/s]\r",
      "creating edges: 100%|██████████| 2/2 [00:01<00:00,  1.46it/s]\n",
      "\r",
      "Waiting for endpoint update:  / 2019-03-29 01:32:26.959477 : 0it [00:00, ?it/s]\r",
      "Waiting for endpoint update: 2019-03-29 01:22:42 / 2019-03-29 01:32:26.959477 : : 0it [00:00, ?it/s]\r",
      "Waiting for endpoint update: 2019-03-29 01:31:51 / 2019-03-29 01:32:26.959477 : : 1it [00:30, 30.19s/it]\r",
      "Waiting for endpoint update: 2019-03-29 01:31:51 / 2019-03-29 01:32:26.959477 : : 2it [00:30, 15.09s/it]\r",
      "Waiting for endpoint update: 2019-03-29 01:31:51 / 2019-03-29 01:32:26.959477 : : 2it [01:00, 15.09s/it]\r",
      "Waiting for endpoint update: 2019-03-29 01:31:51 / 2019-03-29 01:32:26.959477 : : 3it [01:00, 19.60s/it]\r",
      "Waiting for endpoint update: 2019-03-29 01:31:51 / 2019-03-29 01:32:26.959477 : : 3it [01:30, 19.60s/it]\r",
      "Waiting for endpoint update: 2019-03-29 01:31:51 / 2019-03-29 01:32:26.959477 : : 4it [01:30, 22.75s/it]\r",
      "Waiting for endpoint update: 2019-03-29 01:31:51 / 2019-03-29 01:32:26.959477 : : 4it [02:00, 22.75s/it]\r",
      "Waiting for endpoint update: 2019-03-29 01:31:51 / 2019-03-29 01:32:26.959477 : : 5it [02:00, 24.96s/it]\r",
      "Waiting for endpoint update: 2019-03-29 01:31:51 / 2019-03-29 01:32:26.959477 : : 5it [02:30, 24.96s/it]\r",
      "Waiting for endpoint update: 2019-03-29 01:31:51 / 2019-03-29 01:32:26.959477 : : 6it [02:30, 26.52s/it]\r",
      "Waiting for endpoint update: 2019-03-29 01:31:51 / 2019-03-29 01:32:26.959477 : : 6it [03:00, 26.52s/it]\r",
      "Waiting for endpoint update: 2019-03-29 01:31:51 / 2019-03-29 01:32:26.959477 : : 7it [03:00, 27.59s/it]\r",
      "Waiting for endpoint update: 2019-03-29 01:31:51 / 2019-03-29 01:32:26.959477 : : 7it [03:30, 27.59s/it]\r",
      "Waiting for endpoint update: 2019-03-29 01:31:51 / 2019-03-29 01:32:26.959477 : : 8it [03:30, 28.35s/it]\r",
      "Waiting for endpoint update: 2019-03-29 01:31:51 / 2019-03-29 01:32:26.959477 : : 8it [04:00, 28.35s/it]\r",
      "Waiting for endpoint update: 2019-03-29 01:31:51 / 2019-03-29 01:32:26.959477 : : 9it [04:00, 28.88s/it]\r",
      "Waiting for endpoint update: 2019-03-29 01:31:51 / 2019-03-29 01:32:26.959477 : : 9it [04:31, 28.88s/it]\r",
      "Waiting for endpoint update: 2019-03-29 01:31:51 / 2019-03-29 01:32:26.959477 : : 10it [04:31, 29.25s/it]\r",
      "Waiting for endpoint update: 2019-03-29 01:31:51 / 2019-03-29 01:32:26.959477 : : 10it [05:01, 29.25s/it]\r",
      "Waiting for endpoint update: 2019-03-29 01:31:51 / 2019-03-29 01:32:26.959477 : : 11it [05:01, 29.51s/it]\r",
      "Waiting for endpoint update: 2019-03-29 01:36:51 / 2019-03-29 01:32:26.959477 : : 11it [05:31, 29.51s/it]\r",
      "Waiting for endpoint update: 2019-03-29 01:36:51 / 2019-03-29 01:32:26.959477 : : 12it [05:31, 29.68s/it]\n"
     ]
    }
   ],
   "source": [
    "%%bash\n",
    "python3 scheduled-bots/scheduled_bots/ontology/obographs_DO.py ./doidtest/doidtest3_2.json"
   ]
  },
  {
   "cell_type": "markdown",
   "metadata": {},
   "source": [
    "### Interestingly, more items were not found in this fast run than in the previous fast runs ###\n",
    "\n",
    "1). For Q574741, the `\"val\" : \"MEDDRA:10059589\"` was not cross referenced on WikiData. Can't find the MEDDRA id# on the net as well <br>\n",
    "\n",
    "2). Interestingly this `has phenotype` output also has as None;None;None;no qids found for: `http://purl.obolibrary.org/obo/HP_0001510;None`. This leads to Human Phenotype of __Growth Delay__.  For the first run, no QID was associated with __Complement Deficiency__. However, __Complement Deficiency__ was listed on WikiData as well. This leads me to believe the QID's are just missing, (albeit some human phenotypes are overlapping with disease ontology ID's).\n",
    "\n",
    "3). Looking at `nodes` for Human Phenotype (search for `HP_0011983` to get to that node), it seems all the cross references are missing. \n"
   ]
  },
  {
   "cell_type": "markdown",
   "metadata": {},
   "source": [
    "### What if we add a cross reference back in the fastrun file... ###\n",
    "\n",
    "Added a Wikipedia URL for HP_0001510. and saved it as doidtest3_3.json.\n",
    "\n",
    "```\n",
    "    }, {\n",
    "      \"id\" : \"http://purl.obolibrary.org/obo/HP_0001510\",\n",
    "      \"meta\" : {\n",
    "        \"definition\" : {\n",
    "          \"val\" : \"A deficiency or slowing down of growth pre- and postnatally.\",\n",
    "          \"xrefs\" : [\"https://www.wikidata.org/wiki/Q574741\" ]\n",
    "        }\n",
    "      },\n",
    "      \"type\" : \"CLASS\",\n",
    "      \"lbl\" : \"Growth delay\"\n",
    "    }```"
   ]
  },
  {
   "cell_type": "code",
   "execution_count": 1,
   "metadata": {},
   "outputs": [
    {
     "name": "stdout",
     "output_type": "stream",
     "text": [
      "https://www.wikidata.org/w/api.php\n",
      "Successfully logged in as Torogertu\n"
     ]
    },
    {
     "name": "stderr",
     "output_type": "stream",
     "text": [
      "Traceback (most recent call last):\n",
      "  File \"scheduled-bots/scheduled_bots/ontology/obographs_DO.py\", line 94, in <module>\n",
      "    g = DOGraph(args.json_path, mediawiki_api_url=mediawiki_api_url, sparql_endpoint_url=sparql_endpoint_url)\n",
      "  File \"/home/rogertu/WikiData/scheduled-bots/scheduled_bots/ontology/obographs.py\", line 327, in __init__\n",
      "    self.load_graph()\n",
      "  File \"/home/rogertu/WikiData/scheduled-bots/scheduled_bots/ontology/obographs.py\", line 344, in load_graph\n",
      "    d = json.load(f)\n",
      "  File \"/usr/lib/python3.6/json/__init__.py\", line 299, in load\n",
      "    parse_constant=parse_constant, object_pairs_hook=object_pairs_hook, **kw)\n",
      "  File \"/usr/lib/python3.6/json/__init__.py\", line 354, in loads\n",
      "    return _default_decoder.decode(s)\n",
      "  File \"/usr/lib/python3.6/json/decoder.py\", line 339, in decode\n",
      "    obj, end = self.raw_decode(s, idx=_w(s, 0).end())\n",
      "  File \"/usr/lib/python3.6/json/decoder.py\", line 355, in raw_decode\n",
      "    obj, end = self.scan_once(s, idx)\n",
      "json.decoder.JSONDecodeError: Expecting property name enclosed in double quotes: line 55 column 7 (char 1904)\n"
     ]
    },
    {
     "ename": "CalledProcessError",
     "evalue": "Command 'b'python3 scheduled-bots/scheduled_bots/ontology/obographs_DO.py ./doidtest/doidtest3_3.json\\n'' returned non-zero exit status 1.",
     "output_type": "error",
     "traceback": [
      "\u001b[0;31m---------------------------------------------------------------------------\u001b[0m",
      "\u001b[0;31mCalledProcessError\u001b[0m                        Traceback (most recent call last)",
      "\u001b[0;32m<ipython-input-1-fad4e514b548>\u001b[0m in \u001b[0;36m<module>\u001b[0;34m\u001b[0m\n\u001b[0;32m----> 1\u001b[0;31m \u001b[0mget_ipython\u001b[0m\u001b[0;34m(\u001b[0m\u001b[0;34m)\u001b[0m\u001b[0;34m.\u001b[0m\u001b[0mrun_cell_magic\u001b[0m\u001b[0;34m(\u001b[0m\u001b[0;34m'bash'\u001b[0m\u001b[0;34m,\u001b[0m \u001b[0;34m''\u001b[0m\u001b[0;34m,\u001b[0m \u001b[0;34m'python3 scheduled-bots/scheduled_bots/ontology/obographs_DO.py ./doidtest/doidtest3_3.json\\n'\u001b[0m\u001b[0;34m)\u001b[0m\u001b[0;34m\u001b[0m\u001b[0;34m\u001b[0m\u001b[0m\n\u001b[0m",
      "\u001b[0;32m~/WikiData/WD_Test/lib/python3.6/site-packages/IPython/core/interactiveshell.py\u001b[0m in \u001b[0;36mrun_cell_magic\u001b[0;34m(self, magic_name, line, cell)\u001b[0m\n\u001b[1;32m   2345\u001b[0m                 \u001b[0mmagic_arg_s\u001b[0m \u001b[0;34m=\u001b[0m \u001b[0mself\u001b[0m\u001b[0;34m.\u001b[0m\u001b[0mvar_expand\u001b[0m\u001b[0;34m(\u001b[0m\u001b[0mline\u001b[0m\u001b[0;34m,\u001b[0m \u001b[0mstack_depth\u001b[0m\u001b[0;34m)\u001b[0m\u001b[0;34m\u001b[0m\u001b[0;34m\u001b[0m\u001b[0m\n\u001b[1;32m   2346\u001b[0m             \u001b[0;32mwith\u001b[0m \u001b[0mself\u001b[0m\u001b[0;34m.\u001b[0m\u001b[0mbuiltin_trap\u001b[0m\u001b[0;34m:\u001b[0m\u001b[0;34m\u001b[0m\u001b[0;34m\u001b[0m\u001b[0m\n\u001b[0;32m-> 2347\u001b[0;31m                 \u001b[0mresult\u001b[0m \u001b[0;34m=\u001b[0m \u001b[0mfn\u001b[0m\u001b[0;34m(\u001b[0m\u001b[0mmagic_arg_s\u001b[0m\u001b[0;34m,\u001b[0m \u001b[0mcell\u001b[0m\u001b[0;34m)\u001b[0m\u001b[0;34m\u001b[0m\u001b[0;34m\u001b[0m\u001b[0m\n\u001b[0m\u001b[1;32m   2348\u001b[0m             \u001b[0;32mreturn\u001b[0m \u001b[0mresult\u001b[0m\u001b[0;34m\u001b[0m\u001b[0;34m\u001b[0m\u001b[0m\n\u001b[1;32m   2349\u001b[0m \u001b[0;34m\u001b[0m\u001b[0m\n",
      "\u001b[0;32m~/WikiData/WD_Test/lib/python3.6/site-packages/IPython/core/magics/script.py\u001b[0m in \u001b[0;36mnamed_script_magic\u001b[0;34m(line, cell)\u001b[0m\n\u001b[1;32m    140\u001b[0m             \u001b[0;32melse\u001b[0m\u001b[0;34m:\u001b[0m\u001b[0;34m\u001b[0m\u001b[0;34m\u001b[0m\u001b[0m\n\u001b[1;32m    141\u001b[0m                 \u001b[0mline\u001b[0m \u001b[0;34m=\u001b[0m \u001b[0mscript\u001b[0m\u001b[0;34m\u001b[0m\u001b[0;34m\u001b[0m\u001b[0m\n\u001b[0;32m--> 142\u001b[0;31m             \u001b[0;32mreturn\u001b[0m \u001b[0mself\u001b[0m\u001b[0;34m.\u001b[0m\u001b[0mshebang\u001b[0m\u001b[0;34m(\u001b[0m\u001b[0mline\u001b[0m\u001b[0;34m,\u001b[0m \u001b[0mcell\u001b[0m\u001b[0;34m)\u001b[0m\u001b[0;34m\u001b[0m\u001b[0;34m\u001b[0m\u001b[0m\n\u001b[0m\u001b[1;32m    143\u001b[0m \u001b[0;34m\u001b[0m\u001b[0m\n\u001b[1;32m    144\u001b[0m         \u001b[0;31m# write a basic docstring:\u001b[0m\u001b[0;34m\u001b[0m\u001b[0;34m\u001b[0m\u001b[0;34m\u001b[0m\u001b[0m\n",
      "\u001b[0;32m</home/rogertu/WikiData/WD_Test/lib/python3.6/site-packages/decorator.py:decorator-gen-110>\u001b[0m in \u001b[0;36mshebang\u001b[0;34m(self, line, cell)\u001b[0m\n",
      "\u001b[0;32m~/WikiData/WD_Test/lib/python3.6/site-packages/IPython/core/magic.py\u001b[0m in \u001b[0;36m<lambda>\u001b[0;34m(f, *a, **k)\u001b[0m\n\u001b[1;32m    185\u001b[0m     \u001b[0;31m# but it's overkill for just that one bit of state.\u001b[0m\u001b[0;34m\u001b[0m\u001b[0;34m\u001b[0m\u001b[0;34m\u001b[0m\u001b[0m\n\u001b[1;32m    186\u001b[0m     \u001b[0;32mdef\u001b[0m \u001b[0mmagic_deco\u001b[0m\u001b[0;34m(\u001b[0m\u001b[0marg\u001b[0m\u001b[0;34m)\u001b[0m\u001b[0;34m:\u001b[0m\u001b[0;34m\u001b[0m\u001b[0;34m\u001b[0m\u001b[0m\n\u001b[0;32m--> 187\u001b[0;31m         \u001b[0mcall\u001b[0m \u001b[0;34m=\u001b[0m \u001b[0;32mlambda\u001b[0m \u001b[0mf\u001b[0m\u001b[0;34m,\u001b[0m \u001b[0;34m*\u001b[0m\u001b[0ma\u001b[0m\u001b[0;34m,\u001b[0m \u001b[0;34m**\u001b[0m\u001b[0mk\u001b[0m\u001b[0;34m:\u001b[0m \u001b[0mf\u001b[0m\u001b[0;34m(\u001b[0m\u001b[0;34m*\u001b[0m\u001b[0ma\u001b[0m\u001b[0;34m,\u001b[0m \u001b[0;34m**\u001b[0m\u001b[0mk\u001b[0m\u001b[0;34m)\u001b[0m\u001b[0;34m\u001b[0m\u001b[0;34m\u001b[0m\u001b[0m\n\u001b[0m\u001b[1;32m    188\u001b[0m \u001b[0;34m\u001b[0m\u001b[0m\n\u001b[1;32m    189\u001b[0m         \u001b[0;32mif\u001b[0m \u001b[0mcallable\u001b[0m\u001b[0;34m(\u001b[0m\u001b[0marg\u001b[0m\u001b[0;34m)\u001b[0m\u001b[0;34m:\u001b[0m\u001b[0;34m\u001b[0m\u001b[0;34m\u001b[0m\u001b[0m\n",
      "\u001b[0;32m~/WikiData/WD_Test/lib/python3.6/site-packages/IPython/core/magics/script.py\u001b[0m in \u001b[0;36mshebang\u001b[0;34m(self, line, cell)\u001b[0m\n\u001b[1;32m    243\u001b[0m             \u001b[0msys\u001b[0m\u001b[0;34m.\u001b[0m\u001b[0mstderr\u001b[0m\u001b[0;34m.\u001b[0m\u001b[0mflush\u001b[0m\u001b[0;34m(\u001b[0m\u001b[0;34m)\u001b[0m\u001b[0;34m\u001b[0m\u001b[0;34m\u001b[0m\u001b[0m\n\u001b[1;32m    244\u001b[0m         \u001b[0;32mif\u001b[0m \u001b[0margs\u001b[0m\u001b[0;34m.\u001b[0m\u001b[0mraise_error\u001b[0m \u001b[0;32mand\u001b[0m \u001b[0mp\u001b[0m\u001b[0;34m.\u001b[0m\u001b[0mreturncode\u001b[0m\u001b[0;34m!=\u001b[0m\u001b[0;36m0\u001b[0m\u001b[0;34m:\u001b[0m\u001b[0;34m\u001b[0m\u001b[0;34m\u001b[0m\u001b[0m\n\u001b[0;32m--> 245\u001b[0;31m             \u001b[0;32mraise\u001b[0m \u001b[0mCalledProcessError\u001b[0m\u001b[0;34m(\u001b[0m\u001b[0mp\u001b[0m\u001b[0;34m.\u001b[0m\u001b[0mreturncode\u001b[0m\u001b[0;34m,\u001b[0m \u001b[0mcell\u001b[0m\u001b[0;34m,\u001b[0m \u001b[0moutput\u001b[0m\u001b[0;34m=\u001b[0m\u001b[0mout\u001b[0m\u001b[0;34m,\u001b[0m \u001b[0mstderr\u001b[0m\u001b[0;34m=\u001b[0m\u001b[0merr\u001b[0m\u001b[0;34m)\u001b[0m\u001b[0;34m\u001b[0m\u001b[0;34m\u001b[0m\u001b[0m\n\u001b[0m\u001b[1;32m    246\u001b[0m \u001b[0;34m\u001b[0m\u001b[0m\n\u001b[1;32m    247\u001b[0m     \u001b[0;32mdef\u001b[0m \u001b[0m_run_script\u001b[0m\u001b[0;34m(\u001b[0m\u001b[0mself\u001b[0m\u001b[0;34m,\u001b[0m \u001b[0mp\u001b[0m\u001b[0;34m,\u001b[0m \u001b[0mcell\u001b[0m\u001b[0;34m,\u001b[0m \u001b[0mto_close\u001b[0m\u001b[0;34m)\u001b[0m\u001b[0;34m:\u001b[0m\u001b[0;34m\u001b[0m\u001b[0;34m\u001b[0m\u001b[0m\n",
      "\u001b[0;31mCalledProcessError\u001b[0m: Command 'b'python3 scheduled-bots/scheduled_bots/ontology/obographs_DO.py ./doidtest/doidtest3_3.json\\n'' returned non-zero exit status 1."
     ]
    }
   ],
   "source": [
    "%%bash\n",
    "python3 scheduled-bots/scheduled_bots/ontology/obographs_DO.py ./doidtest/doidtest3_3.json"
   ]
  },
  {
   "cell_type": "markdown",
   "metadata": {},
   "source": [
    "### Got an error. Is it because of what I added or was it actually because there's a unenclosed property ###\n",
    "\n",
    "Error\n",
    ">`json.decoder.JSONDecodeError: Expecting property name enclosed in double quotes: line 55 column 7 (char 1904)`\n",
    "\n",
    "Remove the added code, rerun script. Now the code looks like: <br>\n",
    "```\n",
    "    }, {\n",
    "      \"id\" : \"http://purl.obolibrary.org/obo/HP_0001510\",\n",
    "      \"meta\" : {\n",
    "        \"definition\" : {\n",
    "          \"val\" : \"A deficiency or slowing down of growth pre- and postnatally.\",\n",
    "          \"xrefs\" : [ ]\n",
    "        }\n",
    "      }\n",
    "```\n"
   ]
  },
  {
   "cell_type": "code",
   "execution_count": 2,
   "metadata": {},
   "outputs": [
    {
     "name": "stdout",
     "output_type": "stream",
     "text": [
      "https://www.wikidata.org/w/api.php\n",
      "Successfully logged in as Torogertu\n"
     ]
    },
    {
     "name": "stderr",
     "output_type": "stream",
     "text": [
      "Traceback (most recent call last):\n",
      "  File \"scheduled-bots/scheduled_bots/ontology/obographs_DO.py\", line 94, in <module>\n",
      "    g = DOGraph(args.json_path, mediawiki_api_url=mediawiki_api_url, sparql_endpoint_url=sparql_endpoint_url)\n",
      "  File \"/home/rogertu/WikiData/scheduled-bots/scheduled_bots/ontology/obographs.py\", line 327, in __init__\n",
      "    self.load_graph()\n",
      "  File \"/home/rogertu/WikiData/scheduled-bots/scheduled_bots/ontology/obographs.py\", line 344, in load_graph\n",
      "    d = json.load(f)\n",
      "  File \"/usr/lib/python3.6/json/__init__.py\", line 299, in load\n",
      "    parse_constant=parse_constant, object_pairs_hook=object_pairs_hook, **kw)\n",
      "  File \"/usr/lib/python3.6/json/__init__.py\", line 354, in loads\n",
      "    return _default_decoder.decode(s)\n",
      "  File \"/usr/lib/python3.6/json/decoder.py\", line 339, in decode\n",
      "    obj, end = self.raw_decode(s, idx=_w(s, 0).end())\n",
      "  File \"/usr/lib/python3.6/json/decoder.py\", line 355, in raw_decode\n",
      "    obj, end = self.scan_once(s, idx)\n",
      "json.decoder.JSONDecodeError: Expecting property name enclosed in double quotes: line 55 column 7 (char 1904)\n"
     ]
    },
    {
     "ename": "CalledProcessError",
     "evalue": "Command 'b'python3 scheduled-bots/scheduled_bots/ontology/obographs_DO.py ./doidtest/doidtest3_4.json\\n'' returned non-zero exit status 1.",
     "output_type": "error",
     "traceback": [
      "\u001b[0;31m---------------------------------------------------------------------------\u001b[0m",
      "\u001b[0;31mCalledProcessError\u001b[0m                        Traceback (most recent call last)",
      "\u001b[0;32m<ipython-input-2-b945ef032e78>\u001b[0m in \u001b[0;36m<module>\u001b[0;34m\u001b[0m\n\u001b[0;32m----> 1\u001b[0;31m \u001b[0mget_ipython\u001b[0m\u001b[0;34m(\u001b[0m\u001b[0;34m)\u001b[0m\u001b[0;34m.\u001b[0m\u001b[0mrun_cell_magic\u001b[0m\u001b[0;34m(\u001b[0m\u001b[0;34m'bash'\u001b[0m\u001b[0;34m,\u001b[0m \u001b[0;34m''\u001b[0m\u001b[0;34m,\u001b[0m \u001b[0;34m'python3 scheduled-bots/scheduled_bots/ontology/obographs_DO.py ./doidtest/doidtest3_4.json\\n'\u001b[0m\u001b[0;34m)\u001b[0m\u001b[0;34m\u001b[0m\u001b[0;34m\u001b[0m\u001b[0m\n\u001b[0m",
      "\u001b[0;32m~/WikiData/WD_Test/lib/python3.6/site-packages/IPython/core/interactiveshell.py\u001b[0m in \u001b[0;36mrun_cell_magic\u001b[0;34m(self, magic_name, line, cell)\u001b[0m\n\u001b[1;32m   2345\u001b[0m                 \u001b[0mmagic_arg_s\u001b[0m \u001b[0;34m=\u001b[0m \u001b[0mself\u001b[0m\u001b[0;34m.\u001b[0m\u001b[0mvar_expand\u001b[0m\u001b[0;34m(\u001b[0m\u001b[0mline\u001b[0m\u001b[0;34m,\u001b[0m \u001b[0mstack_depth\u001b[0m\u001b[0;34m)\u001b[0m\u001b[0;34m\u001b[0m\u001b[0;34m\u001b[0m\u001b[0m\n\u001b[1;32m   2346\u001b[0m             \u001b[0;32mwith\u001b[0m \u001b[0mself\u001b[0m\u001b[0;34m.\u001b[0m\u001b[0mbuiltin_trap\u001b[0m\u001b[0;34m:\u001b[0m\u001b[0;34m\u001b[0m\u001b[0;34m\u001b[0m\u001b[0m\n\u001b[0;32m-> 2347\u001b[0;31m                 \u001b[0mresult\u001b[0m \u001b[0;34m=\u001b[0m \u001b[0mfn\u001b[0m\u001b[0;34m(\u001b[0m\u001b[0mmagic_arg_s\u001b[0m\u001b[0;34m,\u001b[0m \u001b[0mcell\u001b[0m\u001b[0;34m)\u001b[0m\u001b[0;34m\u001b[0m\u001b[0;34m\u001b[0m\u001b[0m\n\u001b[0m\u001b[1;32m   2348\u001b[0m             \u001b[0;32mreturn\u001b[0m \u001b[0mresult\u001b[0m\u001b[0;34m\u001b[0m\u001b[0;34m\u001b[0m\u001b[0m\n\u001b[1;32m   2349\u001b[0m \u001b[0;34m\u001b[0m\u001b[0m\n",
      "\u001b[0;32m~/WikiData/WD_Test/lib/python3.6/site-packages/IPython/core/magics/script.py\u001b[0m in \u001b[0;36mnamed_script_magic\u001b[0;34m(line, cell)\u001b[0m\n\u001b[1;32m    140\u001b[0m             \u001b[0;32melse\u001b[0m\u001b[0;34m:\u001b[0m\u001b[0;34m\u001b[0m\u001b[0;34m\u001b[0m\u001b[0m\n\u001b[1;32m    141\u001b[0m                 \u001b[0mline\u001b[0m \u001b[0;34m=\u001b[0m \u001b[0mscript\u001b[0m\u001b[0;34m\u001b[0m\u001b[0;34m\u001b[0m\u001b[0m\n\u001b[0;32m--> 142\u001b[0;31m             \u001b[0;32mreturn\u001b[0m \u001b[0mself\u001b[0m\u001b[0;34m.\u001b[0m\u001b[0mshebang\u001b[0m\u001b[0;34m(\u001b[0m\u001b[0mline\u001b[0m\u001b[0;34m,\u001b[0m \u001b[0mcell\u001b[0m\u001b[0;34m)\u001b[0m\u001b[0;34m\u001b[0m\u001b[0;34m\u001b[0m\u001b[0m\n\u001b[0m\u001b[1;32m    143\u001b[0m \u001b[0;34m\u001b[0m\u001b[0m\n\u001b[1;32m    144\u001b[0m         \u001b[0;31m# write a basic docstring:\u001b[0m\u001b[0;34m\u001b[0m\u001b[0;34m\u001b[0m\u001b[0;34m\u001b[0m\u001b[0m\n",
      "\u001b[0;32m</home/rogertu/WikiData/WD_Test/lib/python3.6/site-packages/decorator.py:decorator-gen-110>\u001b[0m in \u001b[0;36mshebang\u001b[0;34m(self, line, cell)\u001b[0m\n",
      "\u001b[0;32m~/WikiData/WD_Test/lib/python3.6/site-packages/IPython/core/magic.py\u001b[0m in \u001b[0;36m<lambda>\u001b[0;34m(f, *a, **k)\u001b[0m\n\u001b[1;32m    185\u001b[0m     \u001b[0;31m# but it's overkill for just that one bit of state.\u001b[0m\u001b[0;34m\u001b[0m\u001b[0;34m\u001b[0m\u001b[0;34m\u001b[0m\u001b[0m\n\u001b[1;32m    186\u001b[0m     \u001b[0;32mdef\u001b[0m \u001b[0mmagic_deco\u001b[0m\u001b[0;34m(\u001b[0m\u001b[0marg\u001b[0m\u001b[0;34m)\u001b[0m\u001b[0;34m:\u001b[0m\u001b[0;34m\u001b[0m\u001b[0;34m\u001b[0m\u001b[0m\n\u001b[0;32m--> 187\u001b[0;31m         \u001b[0mcall\u001b[0m \u001b[0;34m=\u001b[0m \u001b[0;32mlambda\u001b[0m \u001b[0mf\u001b[0m\u001b[0;34m,\u001b[0m \u001b[0;34m*\u001b[0m\u001b[0ma\u001b[0m\u001b[0;34m,\u001b[0m \u001b[0;34m**\u001b[0m\u001b[0mk\u001b[0m\u001b[0;34m:\u001b[0m \u001b[0mf\u001b[0m\u001b[0;34m(\u001b[0m\u001b[0;34m*\u001b[0m\u001b[0ma\u001b[0m\u001b[0;34m,\u001b[0m \u001b[0;34m**\u001b[0m\u001b[0mk\u001b[0m\u001b[0;34m)\u001b[0m\u001b[0;34m\u001b[0m\u001b[0;34m\u001b[0m\u001b[0m\n\u001b[0m\u001b[1;32m    188\u001b[0m \u001b[0;34m\u001b[0m\u001b[0m\n\u001b[1;32m    189\u001b[0m         \u001b[0;32mif\u001b[0m \u001b[0mcallable\u001b[0m\u001b[0;34m(\u001b[0m\u001b[0marg\u001b[0m\u001b[0;34m)\u001b[0m\u001b[0;34m:\u001b[0m\u001b[0;34m\u001b[0m\u001b[0;34m\u001b[0m\u001b[0m\n",
      "\u001b[0;32m~/WikiData/WD_Test/lib/python3.6/site-packages/IPython/core/magics/script.py\u001b[0m in \u001b[0;36mshebang\u001b[0;34m(self, line, cell)\u001b[0m\n\u001b[1;32m    243\u001b[0m             \u001b[0msys\u001b[0m\u001b[0;34m.\u001b[0m\u001b[0mstderr\u001b[0m\u001b[0;34m.\u001b[0m\u001b[0mflush\u001b[0m\u001b[0;34m(\u001b[0m\u001b[0;34m)\u001b[0m\u001b[0;34m\u001b[0m\u001b[0;34m\u001b[0m\u001b[0m\n\u001b[1;32m    244\u001b[0m         \u001b[0;32mif\u001b[0m \u001b[0margs\u001b[0m\u001b[0;34m.\u001b[0m\u001b[0mraise_error\u001b[0m \u001b[0;32mand\u001b[0m \u001b[0mp\u001b[0m\u001b[0;34m.\u001b[0m\u001b[0mreturncode\u001b[0m\u001b[0;34m!=\u001b[0m\u001b[0;36m0\u001b[0m\u001b[0;34m:\u001b[0m\u001b[0;34m\u001b[0m\u001b[0;34m\u001b[0m\u001b[0m\n\u001b[0;32m--> 245\u001b[0;31m             \u001b[0;32mraise\u001b[0m \u001b[0mCalledProcessError\u001b[0m\u001b[0;34m(\u001b[0m\u001b[0mp\u001b[0m\u001b[0;34m.\u001b[0m\u001b[0mreturncode\u001b[0m\u001b[0;34m,\u001b[0m \u001b[0mcell\u001b[0m\u001b[0;34m,\u001b[0m \u001b[0moutput\u001b[0m\u001b[0;34m=\u001b[0m\u001b[0mout\u001b[0m\u001b[0;34m,\u001b[0m \u001b[0mstderr\u001b[0m\u001b[0;34m=\u001b[0m\u001b[0merr\u001b[0m\u001b[0;34m)\u001b[0m\u001b[0;34m\u001b[0m\u001b[0;34m\u001b[0m\u001b[0m\n\u001b[0m\u001b[1;32m    246\u001b[0m \u001b[0;34m\u001b[0m\u001b[0m\n\u001b[1;32m    247\u001b[0m     \u001b[0;32mdef\u001b[0m \u001b[0m_run_script\u001b[0m\u001b[0;34m(\u001b[0m\u001b[0mself\u001b[0m\u001b[0;34m,\u001b[0m \u001b[0mp\u001b[0m\u001b[0;34m,\u001b[0m \u001b[0mcell\u001b[0m\u001b[0;34m,\u001b[0m \u001b[0mto_close\u001b[0m\u001b[0;34m)\u001b[0m\u001b[0;34m:\u001b[0m\u001b[0;34m\u001b[0m\u001b[0;34m\u001b[0m\u001b[0m\n",
      "\u001b[0;31mCalledProcessError\u001b[0m: Command 'b'python3 scheduled-bots/scheduled_bots/ontology/obographs_DO.py ./doidtest/doidtest3_4.json\\n'' returned non-zero exit status 1."
     ]
    }
   ],
   "source": [
    "%%bash\n",
    "python3 scheduled-bots/scheduled_bots/ontology/obographs_DO.py ./doidtest/doidtest3_4.json"
   ]
  },
  {
   "cell_type": "markdown",
   "metadata": {},
   "source": [
    "## Recreate file in doidtest3_2.json and rename it doidtest3_3.json ##\n",
    "Based on the above it seems like there is a problem with the code.  Rerun doidtest3_2.json, if it works, recreate it as 3_3 with changes. <br>\n",
    "\n",
    "```\n",
    "    }, {\n",
    "      \"id\" : \"http://purl.obolibrary.org/obo/HP_0001510\",\n",
    "      \"meta\" : {\n",
    "        \"definition\" : {\n",
    "          \"val\" : \"A deficiency or slowing down of growth pre- and postnatally.\",\n",
    "          \"xrefs\" : [\"https://www.wikidata.org/wiki/Q574741\" ]\n",
    "        }\n",
    "      },\n",
    "      \"type\" : \"CLASS\",\n",
    "      \"lbl\" : \"Growth delay\"\n",
    "    }```"
   ]
  },
  {
   "cell_type": "code",
   "execution_count": 4,
   "metadata": {},
   "outputs": [
    {
     "name": "stdout",
     "output_type": "stream",
     "text": [
      "https://www.wikidata.org/w/api.php\n",
      "Successfully logged in as Torogertu\n",
      "P699 not found in fastrun\n",
      "P2888 not found in fastrun\n",
      "P1692 not found in fastrun\n",
      "P1748 not found in fastrun\n",
      "P4229 not found in fastrun\n",
      "P2892 not found in fastrun\n",
      "P492 not found in fastrun\n",
      "P486 not found in fastrun\n",
      "P4317 not found in fastrun\n",
      "skipping 641 edges where the subject is a node that is being skipped\n",
      "loading: P1554\n",
      "P927 not found in fastrun\n",
      "loading: P3841\n",
      "None;None;None;no qids found for: http://purl.obolibrary.org/obo/HP_0001510;None\n",
      "the following should be checked and deleted: {}\n",
      "{'P4229', 'P492', 'P1748', 'P486', 'P1692', 'P6532', 'P927', 'P4317', 'P699', 'P2892'}\n",
      "P4229 not found in fastrun\n",
      "P492 not found in fastrun\n",
      "P1748 not found in fastrun\n",
      "P486 not found in fastrun\n",
      "P1692 not found in fastrun\n",
      "P6532 not found in fastrun\n",
      "P927 not found in fastrun\n",
      "P4317 not found in fastrun\n",
      "P699 not found in fastrun\n",
      "P2892 not found in fastrun\n",
      "-----\n",
      "Q5398631\n",
      "[('P1748', 'C27027'), ('P699', 'DOID:13146'), ('P2892', 'C0239295')]\n",
      "[]\n",
      "-----\n",
      "Q574741\n",
      "[('P492', '223370'), ('P1748', 'C125591'), ('P486', 'C535718'), ('P699', 'DOID:14796'), ('P2892', 'C0175691')]\n",
      "[]\n",
      "Done running obographs_DO\n"
     ]
    },
    {
     "name": "stderr",
     "output_type": "stream",
     "text": [
      "\r",
      "creating items:   0%|          | 0/2 [00:00<?, ?it/s]\r",
      "creating items:  50%|█████     | 1/2 [00:49<00:49, 49.60s/it]\r",
      "creating items: 100%|██████████| 2/2 [00:58<00:00, 37.44s/it]\n",
      "\r",
      "creating edges:   0%|          | 0/2 [00:00<?, ?it/s]\r",
      "creating edges:  50%|█████     | 1/2 [00:02<00:02,  2.03s/it]\r",
      "creating edges: 100%|██████████| 2/2 [00:02<00:00,  1.61s/it]\n",
      "\r",
      "Waiting for endpoint update:  / 2019-03-30 00:53:01.059668 : 0it [00:00, ?it/s]\r",
      "Waiting for endpoint update: 2019-03-30 00:52:06 / 2019-03-30 00:53:01.059668 : : 0it [00:00, ?it/s]\r",
      "Waiting for endpoint update: 2019-03-30 00:52:06 / 2019-03-30 00:53:01.059668 : : 1it [00:00,  5.28it/s]\r",
      "Waiting for endpoint update: 2019-03-30 00:52:06 / 2019-03-30 00:53:01.059668 : : 1it [00:30,  5.28it/s]\r",
      "Waiting for endpoint update: 2019-03-30 00:52:06 / 2019-03-30 00:53:01.059668 : : 2it [00:30,  9.16s/it]\r",
      "Waiting for endpoint update: 2019-03-30 00:52:06 / 2019-03-30 00:53:01.059668 : : 2it [01:00,  9.16s/it]\r",
      "Waiting for endpoint update: 2019-03-30 00:52:06 / 2019-03-30 00:53:01.059668 : : 3it [01:00, 15.45s/it]\r",
      "Waiting for endpoint update: 2019-03-30 00:52:06 / 2019-03-30 00:53:01.059668 : : 3it [01:30, 15.45s/it]\r",
      "Waiting for endpoint update: 2019-03-30 00:52:06 / 2019-03-30 00:53:01.059668 : : 4it [01:30, 19.85s/it]\r",
      "Waiting for endpoint update: 2019-03-30 00:52:06 / 2019-03-30 00:53:01.059668 : : 4it [02:00, 19.85s/it]\r",
      "Waiting for endpoint update: 2019-03-30 00:52:06 / 2019-03-30 00:53:01.059668 : : 5it [02:00, 22.92s/it]\r",
      "Waiting for endpoint update: 2019-03-30 00:52:06 / 2019-03-30 00:53:01.059668 : : 5it [02:30, 22.92s/it]\r",
      "Waiting for endpoint update: 2019-03-30 00:52:06 / 2019-03-30 00:53:01.059668 : : 6it [02:30, 25.08s/it]\r",
      "Waiting for endpoint update: 2019-03-30 00:52:06 / 2019-03-30 00:53:01.059668 : : 6it [03:00, 25.08s/it]\r",
      "Waiting for endpoint update: 2019-03-30 00:52:06 / 2019-03-30 00:53:01.059668 : : 7it [03:00, 26.60s/it]\r",
      "Waiting for endpoint update: 2019-03-30 00:52:06 / 2019-03-30 00:53:01.059668 : : 7it [03:30, 26.60s/it]\r",
      "Waiting for endpoint update: 2019-03-30 00:52:06 / 2019-03-30 00:53:01.059668 : : 8it [03:30, 27.65s/it]\r",
      "Waiting for endpoint update: 2019-03-30 00:52:06 / 2019-03-30 00:53:01.059668 : : 8it [04:01, 27.65s/it]\r",
      "Waiting for endpoint update: 2019-03-30 00:52:06 / 2019-03-30 00:53:01.059668 : : 9it [04:01, 28.39s/it]\r",
      "Waiting for endpoint update: 2019-03-30 00:52:06 / 2019-03-30 00:53:01.059668 : : 9it [04:31, 28.39s/it]\r",
      "Waiting for endpoint update: 2019-03-30 00:52:06 / 2019-03-30 00:53:01.059668 : : 10it [04:31, 28.91s/it]\r",
      "Waiting for endpoint update: 2019-03-30 00:52:06 / 2019-03-30 00:53:01.059668 : : 10it [05:01, 28.91s/it]\r",
      "Waiting for endpoint update: 2019-03-30 00:52:06 / 2019-03-30 00:53:01.059668 : : 11it [05:01, 29.26s/it]\r",
      "Waiting for endpoint update: 2019-03-30 00:57:24 / 2019-03-30 00:53:01.059668 : : 11it [05:31, 29.26s/it]\r",
      "Waiting for endpoint update: 2019-03-30 00:57:24 / 2019-03-30 00:53:01.059668 : : 12it [05:31, 29.52s/it]\n"
     ]
    }
   ],
   "source": [
    "%%bash\n",
    "python3 scheduled-bots/scheduled_bots/ontology/obographs_DO.py ./doidtest/doidtest3_3.json"
   ]
  },
  {
   "cell_type": "markdown",
   "metadata": {},
   "source": [
    "### Great. Looks like it worked. Made edits to doidtest3_3.json ###\n",
    "renamed it doidtest3_4.json. <br>\n",
    "added `\"https://www.wikidata.org/wiki/Q574741\"` to `\"xref\" : [ ]` <br>\n",
    "rerun code."
   ]
  },
  {
   "cell_type": "code",
   "execution_count": 5,
   "metadata": {},
   "outputs": [
    {
     "name": "stdout",
     "output_type": "stream",
     "text": [
      "https://www.wikidata.org/w/api.php\n",
      "Successfully logged in as Torogertu\n",
      "P699 not found in fastrun\n",
      "P2888 not found in fastrun\n",
      "P4229 not found in fastrun\n",
      "P2892 not found in fastrun\n",
      "P1692 not found in fastrun\n",
      "P1748 not found in fastrun\n",
      "P486 not found in fastrun\n",
      "P492 not found in fastrun\n",
      "P4317 not found in fastrun\n",
      "skipping 641 edges where the subject is a node that is being skipped\n",
      "loading: P1554\n",
      "P927 not found in fastrun\n",
      "loading: P3841\n",
      "None;None;None;no qids found for: http://purl.obolibrary.org/obo/HP_0001510;None\n",
      "the following should be checked and deleted: {}\n",
      "{'P1692', 'P2892', 'P927', 'P4317', 'P4229', 'P699', 'P486', 'P1748', 'P6532', 'P492'}\n",
      "P1692 not found in fastrun\n",
      "P2892 not found in fastrun\n",
      "P927 not found in fastrun\n",
      "P4317 not found in fastrun\n",
      "P4229 not found in fastrun\n",
      "P699 not found in fastrun\n",
      "P486 not found in fastrun\n",
      "P1748 not found in fastrun\n",
      "P6532 not found in fastrun\n",
      "P492 not found in fastrun\n",
      "-----\n",
      "Q5398631\n",
      "[('P2892', 'C0239295'), ('P699', 'DOID:13146'), ('P1748', 'C27027')]\n",
      "[]\n",
      "-----\n",
      "Q574741\n",
      "[('P2892', 'C0175691'), ('P699', 'DOID:14796'), ('P486', 'C535718'), ('P1748', 'C125591'), ('P492', '223370')]\n",
      "[]\n",
      "Done running obographs_DO\n"
     ]
    },
    {
     "name": "stderr",
     "output_type": "stream",
     "text": [
      "\r",
      "creating items:   0%|          | 0/2 [00:00<?, ?it/s]\r",
      "creating items:  50%|█████     | 1/2 [00:14<00:14, 14.21s/it]\r",
      "creating items: 100%|██████████| 2/2 [00:17<00:00, 11.06s/it]\n",
      "\r",
      "creating edges:   0%|          | 0/2 [00:00<?, ?it/s]\r",
      "creating edges:  50%|█████     | 1/2 [00:00<00:00,  1.10it/s]\r",
      "creating edges: 100%|██████████| 2/2 [00:01<00:00,  1.48it/s]\n",
      "\r",
      "Waiting for endpoint update:  / 2019-03-30 01:02:30.483532 : 0it [00:00, ?it/s]\r",
      "Waiting for endpoint update: 2019-03-30 00:57:24 / 2019-03-30 01:02:30.483532 : : 0it [00:00, ?it/s]\r",
      "Waiting for endpoint update: 2019-03-30 00:57:24 / 2019-03-30 01:02:30.483532 : : 1it [00:30, 30.18s/it]\r",
      "Waiting for endpoint update: 2019-03-30 00:57:24 / 2019-03-30 01:02:30.483532 : : 2it [00:30, 15.09s/it]\r",
      "Waiting for endpoint update: 2019-03-30 00:57:24 / 2019-03-30 01:02:30.483532 : : 2it [01:00, 15.09s/it]\r",
      "Waiting for endpoint update: 2019-03-30 00:57:24 / 2019-03-30 01:02:30.483532 : : 3it [01:00, 19.60s/it]\r",
      "Waiting for endpoint update: 2019-03-30 01:02:22 / 2019-03-30 01:02:30.483532 : : 3it [01:30, 19.60s/it]\r",
      "Waiting for endpoint update: 2019-03-30 01:02:22 / 2019-03-30 01:02:30.483532 : : 4it [01:30, 22.75s/it]\r",
      "Waiting for endpoint update: 2019-03-30 01:02:22 / 2019-03-30 01:02:30.483532 : : 4it [02:00, 22.75s/it]\r",
      "Waiting for endpoint update: 2019-03-30 01:02:22 / 2019-03-30 01:02:30.483532 : : 5it [02:00, 24.96s/it]\r",
      "Waiting for endpoint update: 2019-03-30 01:02:22 / 2019-03-30 01:02:30.483532 : : 5it [02:30, 24.96s/it]\r",
      "Waiting for endpoint update: 2019-03-30 01:02:22 / 2019-03-30 01:02:30.483532 : : 6it [02:30, 26.50s/it]\r",
      "Waiting for endpoint update: 2019-03-30 01:02:22 / 2019-03-30 01:02:30.483532 : : 6it [03:00, 26.50s/it]\r",
      "Waiting for endpoint update: 2019-03-30 01:02:22 / 2019-03-30 01:02:30.483532 : : 7it [03:00, 27.58s/it]\r",
      "Waiting for endpoint update: 2019-03-30 01:02:22 / 2019-03-30 01:02:30.483532 : : 7it [03:30, 27.58s/it]\r",
      "Waiting for endpoint update: 2019-03-30 01:02:22 / 2019-03-30 01:02:30.483532 : : 8it [03:30, 28.34s/it]\r",
      "Waiting for endpoint update: 2019-03-30 01:02:22 / 2019-03-30 01:02:30.483532 : : 8it [04:00, 28.34s/it]\r",
      "Waiting for endpoint update: 2019-03-30 01:02:22 / 2019-03-30 01:02:30.483532 : : 9it [04:00, 28.88s/it]\r",
      "Waiting for endpoint update: 2019-03-30 01:02:22 / 2019-03-30 01:02:30.483532 : : 9it [04:31, 28.88s/it]\r",
      "Waiting for endpoint update: 2019-03-30 01:02:22 / 2019-03-30 01:02:30.483532 : : 10it [04:31, 29.25s/it]\r",
      "Waiting for endpoint update: 2019-03-30 01:02:22 / 2019-03-30 01:02:30.483532 : : 10it [05:01, 29.25s/it]\r",
      "Waiting for endpoint update: 2019-03-30 01:02:22 / 2019-03-30 01:02:30.483532 : : 11it [05:01, 29.51s/it]\r",
      "Waiting for endpoint update: 2019-03-30 01:02:22 / 2019-03-30 01:02:30.483532 : : 11it [05:31, 29.51s/it]\r",
      "Waiting for endpoint update: 2019-03-30 01:02:22 / 2019-03-30 01:02:30.483532 : : 12it [05:31, 29.69s/it]\r",
      "Waiting for endpoint update: 2019-03-30 01:07:26 / 2019-03-30 01:02:30.483532 : : 12it [06:01, 29.69s/it]\r",
      "Waiting for endpoint update: 2019-03-30 01:07:26 / 2019-03-30 01:02:30.483532 : : 13it [06:01, 29.81s/it]\n"
     ]
    }
   ],
   "source": [
    "%%bash\n",
    "python3 scheduled-bots/scheduled_bots/ontology/obographs_DO.py ./doidtest/doidtest3_4.json"
   ]
  },
  {
   "cell_type": "markdown",
   "metadata": {},
   "source": [
    "### So the full wikidata link still ends up with a `no qids found for: ` statement ###\n",
    "\n",
    "Clearly the bot is finding the QID to associate the PID's to. But the bot is not finding the QID to associate to the human phenotype ontology.  For sanity, what if we check the output of the code, and see if we have it in our `__init__.py`. <br>\n",
    "\n",
    "What if we remove the the full link and leave just the associated QID? "
   ]
  },
  {
   "cell_type": "code",
   "execution_count": 6,
   "metadata": {},
   "outputs": [
    {
     "name": "stdout",
     "output_type": "stream",
     "text": [
      "found P6532 in __init__.py\n",
      "found P699 in __init__.py\n",
      "found P2892 in __init__.py\n",
      "found P927 in __init__.py\n",
      "found P492 in __init__.py\n",
      "found P1692 in __init__.py\n",
      "found P4229 in __init__.py\n",
      "found P1748 in __init__.py\n",
      "found P486 in __init__.py\n",
      "found P4317 in __init__.py\n"
     ]
    }
   ],
   "source": [
    "%%bash\n",
    "cd /home/rogertu/WikiData/scheduled-bots/scheduled_bots/\n",
    "items=('P6532 P699 P2892 P927 P492 P1692 P4229 P1748 P486 P4317')\n",
    "\n",
    "for element in $items; do\n",
    "    if grep -q $element __init__.py; then\n",
    "        echo \"found $element in __init__.py\"\n",
    "    else\n",
    "        echo \"missing $element\"\n",
    "    fi\n",
    "done"
   ]
  },
  {
   "cell_type": "markdown",
   "metadata": {},
   "source": [
    "#### Changed the wikidata URL to only have QID ####\n",
    "\n",
    "```\n",
    "    }, {\n",
    "      \"id\" : \"http://purl.obolibrary.org/obo/HP_0001510\",\n",
    "      \"meta\" : {\n",
    "        \"definition\" : {\n",
    "          \"val\" : \"A deficiency or slowing down of growth pre- and postnatally.\",\n",
    "          \"xrefs\" : [\"Q574741\" ]\n",
    "        }\n",
    "      },\n",
    "      \"type\" : \"CLASS\",\n",
    "      \"lbl\" : \"Growth delay\"\n",
    "    }```"
   ]
  },
  {
   "cell_type": "code",
   "execution_count": 7,
   "metadata": {},
   "outputs": [
    {
     "name": "stdout",
     "output_type": "stream",
     "text": [
      "https://www.wikidata.org/w/api.php\n",
      "Successfully logged in as Torogertu\n",
      "P699 not found in fastrun\n",
      "P2888 not found in fastrun\n",
      "P2892 not found in fastrun\n",
      "P1692 not found in fastrun\n",
      "P1748 not found in fastrun\n",
      "P4229 not found in fastrun\n",
      "P4317 not found in fastrun\n",
      "P486 not found in fastrun\n",
      "P492 not found in fastrun\n",
      "skipping 641 edges where the subject is a node that is being skipped\n",
      "loading: P1554\n",
      "P927 not found in fastrun\n",
      "loading: P3841\n",
      "None;None;None;no qids found for: http://purl.obolibrary.org/obo/HP_0001510;None\n",
      "the following should be checked and deleted: {}\n",
      "{'P1748', 'P4317', 'P6532', 'P1692', 'P486', 'P4229', 'P699', 'P492', 'P927', 'P2892'}\n",
      "P1748 not found in fastrun\n",
      "P4317 not found in fastrun\n",
      "P6532 not found in fastrun\n",
      "P1692 not found in fastrun\n",
      "P486 not found in fastrun\n",
      "P4229 not found in fastrun\n",
      "P699 not found in fastrun\n",
      "P492 not found in fastrun\n",
      "P927 not found in fastrun\n",
      "P2892 not found in fastrun\n",
      "-----\n",
      "Q5398631\n",
      "[('P1748', 'C27027'), ('P699', 'DOID:13146'), ('P2892', 'C0239295')]\n",
      "[]\n",
      "-----\n",
      "Q574741\n",
      "[('P1748', 'C125591'), ('P486', 'C535718'), ('P699', 'DOID:14796'), ('P492', '223370'), ('P2892', 'C0175691')]\n",
      "[]\n",
      "Done running obographs_DO\n"
     ]
    },
    {
     "name": "stderr",
     "output_type": "stream",
     "text": [
      "\r",
      "creating items:   0%|          | 0/2 [00:00<?, ?it/s]\r",
      "creating items:  50%|█████     | 1/2 [00:14<00:14, 14.42s/it]\r",
      "creating items: 100%|██████████| 2/2 [00:18<00:00, 11.20s/it]\n",
      "\r",
      "creating edges:   0%|          | 0/2 [00:00<?, ?it/s]\r",
      "creating edges:  50%|█████     | 1/2 [00:00<00:00,  1.10it/s]\r",
      "creating edges: 100%|██████████| 2/2 [00:01<00:00,  1.48it/s]\n",
      "\r",
      "Waiting for endpoint update:  / 2019-03-30 01:17:59.755589 : 0it [00:00, ?it/s]\r",
      "Waiting for endpoint update: 2019-03-30 01:07:26 / 2019-03-30 01:17:59.755589 : : 0it [00:00, ?it/s]\r",
      "Waiting for endpoint update: 2019-03-30 01:17:15 / 2019-03-30 01:17:59.755589 : : 1it [00:30, 30.19s/it]\r",
      "Waiting for endpoint update: 2019-03-30 01:17:15 / 2019-03-30 01:17:59.755589 : : 2it [00:30, 15.09s/it]\r",
      "Waiting for endpoint update: 2019-03-30 01:17:15 / 2019-03-30 01:17:59.755589 : : 2it [01:00, 15.09s/it]\r",
      "Waiting for endpoint update: 2019-03-30 01:17:15 / 2019-03-30 01:17:59.755589 : : 3it [01:00, 19.60s/it]\r",
      "Waiting for endpoint update: 2019-03-30 01:17:15 / 2019-03-30 01:17:59.755589 : : 3it [01:30, 19.60s/it]\r",
      "Waiting for endpoint update: 2019-03-30 01:17:15 / 2019-03-30 01:17:59.755589 : : 4it [01:30, 22.75s/it]\r",
      "Waiting for endpoint update: 2019-03-30 01:17:15 / 2019-03-30 01:17:59.755589 : : 4it [02:00, 22.75s/it]\r",
      "Waiting for endpoint update: 2019-03-30 01:17:15 / 2019-03-30 01:17:59.755589 : : 5it [02:00, 24.96s/it]\r",
      "Waiting for endpoint update: 2019-03-30 01:17:15 / 2019-03-30 01:17:59.755589 : : 5it [02:30, 24.96s/it]\r",
      "Waiting for endpoint update: 2019-03-30 01:17:15 / 2019-03-30 01:17:59.755589 : : 6it [02:30, 26.50s/it]\r",
      "Waiting for endpoint update: 2019-03-30 01:17:15 / 2019-03-30 01:17:59.755589 : : 6it [03:00, 26.50s/it]\r",
      "Waiting for endpoint update: 2019-03-30 01:17:15 / 2019-03-30 01:17:59.755589 : : 7it [03:00, 27.58s/it]\r",
      "Waiting for endpoint update: 2019-03-30 01:17:15 / 2019-03-30 01:17:59.755589 : : 7it [03:30, 27.58s/it]\r",
      "Waiting for endpoint update: 2019-03-30 01:17:15 / 2019-03-30 01:17:59.755589 : : 8it [03:30, 28.34s/it]\r",
      "Waiting for endpoint update: 2019-03-30 01:17:15 / 2019-03-30 01:17:59.755589 : : 8it [04:00, 28.34s/it]\r",
      "Waiting for endpoint update: 2019-03-30 01:17:15 / 2019-03-30 01:17:59.755589 : : 9it [04:00, 28.87s/it]\r",
      "Waiting for endpoint update: 2019-03-30 01:17:15 / 2019-03-30 01:17:59.755589 : : 9it [04:31, 28.87s/it]\r",
      "Waiting for endpoint update: 2019-03-30 01:17:15 / 2019-03-30 01:17:59.755589 : : 10it [04:31, 29.24s/it]\r",
      "Waiting for endpoint update: 2019-03-30 01:17:15 / 2019-03-30 01:17:59.755589 : : 10it [05:01, 29.24s/it]\r",
      "Waiting for endpoint update: 2019-03-30 01:17:15 / 2019-03-30 01:17:59.755589 : : 11it [05:01, 29.50s/it]\r",
      "Waiting for endpoint update: 2019-03-30 01:22:19 / 2019-03-30 01:17:59.755589 : : 11it [05:31, 29.50s/it]\r",
      "Waiting for endpoint update: 2019-03-30 01:22:19 / 2019-03-30 01:17:59.755589 : : 12it [05:31, 29.68s/it]\n"
     ]
    }
   ],
   "source": [
    "%%bash\n",
    "python3 scheduled-bots/scheduled_bots/ontology/obographs_DO.py ./doidtest/doidtest3_4.json"
   ]
  },
  {
   "cell_type": "markdown",
   "metadata": {},
   "source": [
    "#### Didn't work ####\n",
    "\n",
    "Not really sure where else to proceed.  `HP_0001510` doesn't exist anywhere else in the unmodified DOID file besides in nodes that associate it with (Sub/Pred/Obj).  Where Pred was \"is_a\"."
   ]
  },
  {
   "cell_type": "markdown",
   "metadata": {},
   "source": [
    "## After discussing `obographs_DO.py` with Greg ##\n",
    "Greg suggested to look at the `_post_parse_graph` method from `DOGraphs(Graphs)` module in the `obographs_DO.py` package.  <br>\n",
    "Because Disease ontology differs from the other ontologies as it uses logical definition axioms, `_post_parse_graph` was created to aid in processing them.  The structure of the script looks at the disease ontology 'nodes' and'edges'.  At the bottom of each JSON is logical_definitijons_axioms. <br>\n",
    "Greg also brought to our attention the `curie` on line 563 in `obographs.py`.  This helps recognize formatting in DO, GO and translates it to Wikidata formatting."
   ]
  },
  {
   "cell_type": "markdown",
   "metadata": {},
   "source": [
    "### Make a  copy of `obographs_DO.py` and edit the `_post_parse_graph` ###\n",
    "\n",
    "Should 'edit' the wikipages now after that edit."
   ]
  },
  {
   "cell_type": "code",
   "execution_count": 3,
   "metadata": {},
   "outputs": [
    {
     "name": "stdout",
     "output_type": "stream",
     "text": [
      "https://www.wikidata.org/w/api.php\n",
      "Successfully logged in as Torogertu\n",
      "P699 not found in fastrun\n",
      "P2888 not found in fastrun\n",
      "P2892 not found in fastrun\n",
      "P1748 not found in fastrun\n",
      "P1692 not found in fastrun\n",
      "P4229 not found in fastrun\n",
      "P4317 not found in fastrun\n",
      "P486 not found in fastrun\n",
      "P492 not found in fastrun\n",
      "skipping 0 edges where the subject is a node that is being skipped\n",
      "loading: P1554\n",
      "P927 not found in fastrun\n",
      "loading: P3841\n",
      "None;None;None;no qids found for: http://purl.obolibrary.org/obo/HP_0001510;None\n",
      "the following should be checked and deleted: {}\n",
      "{'P492', 'P927', 'P699', 'P1748', 'P486', 'P1692', 'P2892', 'P6532', 'P4317', 'P4229'}\n",
      "P492 not found in fastrun\n",
      "P927 not found in fastrun\n",
      "P699 not found in fastrun\n",
      "P1748 not found in fastrun\n",
      "P486 not found in fastrun\n",
      "P1692 not found in fastrun\n",
      "P2892 not found in fastrun\n",
      "P6532 not found in fastrun\n",
      "P4317 not found in fastrun\n",
      "P4229 not found in fastrun\n",
      "-----\n",
      "Q5398631\n",
      "[('P699', 'DOID:13146'), ('P1748', 'C27027'), ('P2892', 'C0239295')]\n",
      "[]\n",
      "-----\n",
      "Q574741\n",
      "[('P492', '223370'), ('P699', 'DOID:14796'), ('P1748', 'C125591'), ('P486', 'C535718'), ('P2892', 'C0175691')]\n",
      "[]\n",
      "Done running obographs_DO\n"
     ]
    },
    {
     "name": "stderr",
     "output_type": "stream",
     "text": [
      "\r",
      "creating items:   0%|          | 0/2 [00:00<?, ?it/s]\r",
      "creating items:  50%|█████     | 1/2 [00:42<00:42, 42.15s/it]\r",
      "creating items: 100%|██████████| 2/2 [00:50<00:00, 32.01s/it]\n",
      "\r",
      "creating edges:   0%|          | 0/2 [00:00<?, ?it/s]\r",
      "creating edges:  50%|█████     | 1/2 [00:01<00:01,  1.96s/it]\r",
      "creating edges: 100%|██████████| 2/2 [00:02<00:00,  1.61s/it]\n",
      "\r",
      "Waiting for endpoint update:  / 2019-04-01 23:19:44.367216 : 0it [00:00, ?it/s]\r",
      "Waiting for endpoint update: 2019-04-01 23:19:10 / 2019-04-01 23:19:44.367216 : : 0it [00:00, ?it/s]\r",
      "Waiting for endpoint update: 2019-04-01 23:19:10 / 2019-04-01 23:19:44.367216 : : 1it [00:00,  1.27it/s]\r",
      "Waiting for endpoint update: 2019-04-01 23:19:38 / 2019-04-01 23:19:44.367216 : : 1it [00:30,  1.27it/s]\r",
      "Waiting for endpoint update: 2019-04-01 23:19:38 / 2019-04-01 23:19:44.367216 : : 2it [00:30,  9.61s/it]\r",
      "Waiting for endpoint update: 2019-04-01 23:19:10 / 2019-04-01 23:19:44.367216 : : 2it [01:01,  9.61s/it]\r",
      "Waiting for endpoint update: 2019-04-01 23:19:10 / 2019-04-01 23:19:44.367216 : : 3it [01:01, 15.76s/it]\r",
      "Waiting for endpoint update: 2019-04-01 23:20:42 / 2019-04-01 23:19:44.367216 : : 3it [01:31, 15.76s/it]\r",
      "Waiting for endpoint update: 2019-04-01 23:20:42 / 2019-04-01 23:19:44.367216 : : 4it [01:31, 20.08s/it]\n"
     ]
    }
   ],
   "source": [
    "%%bash\n",
    "python3 scheduled-bots/scheduled_bots/ontology/1obographs_DO.py ./doidtest/doidtest3_2.json"
   ]
  },
  {
   "cell_type": "markdown",
   "metadata": {},
   "source": [
    "### Notes on why the code probably didn't work ###\n",
    "\n",
    "Edit to code doesn't generalize well as it doesn't work for phenotype. Phenotype has no `logicalDefinitionAxioms` under HP and doesn't exist at all under Disease ontology. <br>\n",
    "I went through all the `propertyId`s that weren't `RO_0001025` (Located_in) were (multiple occurences for each, `RO_0001025` was most frequent:\n",
    "> ```\n",
    " {\n",
    "      \"definedClassId\" : \"http://purl.obolibrary.org/obo/DOID_1909\",\n",
    "      \"genusIds\" : [ \"http://purl.obolibrary.org/obo/DOID_162\" ],\n",
    "      \"restrictions\" : [ {\n",
    "        \"propertyId\" : \"http://purl.obolibrary.org/obo/doid#derives_from\",\n",
    "        \"fillerId\" : \"http://purl.obolibrary.org/obo/CL_0000148\"\n",
    "      } ]\n",
    "    }\n",
    " {\n",
    "      \"definedClassId\" : \"http://purl.obolibrary.org/obo/DOID_225\",\n",
    "      \"genusIds\" : [ \"http://purl.obolibrary.org/obo/DOID_4\" ],\n",
    "      \"restrictions\" : [ {\n",
    "        \"propertyId\" : \"http://purl.obolibrary.org/obo/RO_0004019\",\n",
    "        \"fillerId\" : \"http://purl.obolibrary.org/obo/SYMP_0000462\"\n",
    "      } ]\n",
    "    }\n",
    " {\n",
    "      \"definedClassId\" : \"http://purl.obolibrary.org/obo/DOID_0050736\",\n",
    "      \"genusIds\" : [ \"http://purl.obolibrary.org/obo/DOID_4\" ],\n",
    "      \"restrictions\" : [ {\n",
    "        \"propertyId\" : \"http://purl.obolibrary.org/obo/IDO_0000664\",\n",
    "        \"fillerId\" : \"http://purl.obolibrary.org/obo/GENO_0000147\"\n",
    "      } ]\n",
    "    }\n",
    "{\n",
    "      \"definedClassId\" : \"http://purl.obolibrary.org/obo/DOID_746\",\n",
    "      \"genusIds\" : [ \"http://purl.obolibrary.org/obo/DOID_2645\" ],\n",
    "      \"restrictions\" : [ {\n",
    "        \"propertyId\" : \"http://purl.obolibrary.org/obo/so#has_origin\",\n",
    "        \"fillerId\" : \"http://purl.obolibrary.org/obo/UBERON_0002530\"\n",
    "      } ]\n",
    "    },\n",
    "    ```"
   ]
  },
  {
   "cell_type": "markdown",
   "metadata": {},
   "source": [
    "#### `#derivesfrom` propertyId ####\n",
    "Link: `http://www.ontobee.org/ontology/DOID?iri=http://purl.obolibrary.org/obo/doid%23derives_from`<br> There is no WikiData property for `derives_from`, only `derived_from (P5191)`.  The definition of `derived_from` is **most direct lexeme(s) this one has developed from**  <br>\n",
    "\n",
    "#### `RO_0004019` (disease_has_basis_in) propertyId ####\n",
    "Link: `http://www.ontobee.org/ontology/RO?iri=http://purl.obolibrary.org/obo/RO_0004019` <br> There is no WikiData entry for disease_has_basis_in.  No definition specified. <br>\n",
    "\n",
    "#### `IDO_0000664` (has material basis in) propertyId ####\n",
    "Link: `http://www.ontobee.org/ontology/IDO?iri=http://purl.obolibrary.org/obo/IDO_0000664` <br> There is no WikiData entry for has material basis in or has_material_basis_in.  No definition specified. <br>\n",
    "\n",
    "#### `#has_origin` propertyId####\n",
    "Link: `http://www.ontobee.org/ontology/DOID?iri=http://purl.obolibrary.org/obo/so%23has_origin` <br> There is no WikiData property. No definition specified. <br>"
   ]
  },
  {
   "cell_type": "markdown",
   "metadata": {},
   "source": []
  },
  {
   "cell_type": "code",
   "execution_count": null,
   "metadata": {},
   "outputs": [],
   "source": []
  },
  {
   "cell_type": "code",
   "execution_count": null,
   "metadata": {},
   "outputs": [],
   "source": []
  }
 ],
 "metadata": {
  "kernelspec": {
   "display_name": "Python 3",
   "language": "python",
   "name": "python3"
  },
  "language_info": {
   "codemirror_mode": {
    "name": "ipython",
    "version": 3
   },
   "file_extension": ".py",
   "mimetype": "text/x-python",
   "name": "python",
   "nbconvert_exporter": "python",
   "pygments_lexer": "ipython3",
   "version": "3.6.7"
  }
 },
 "nbformat": 4,
 "nbformat_minor": 2
}
